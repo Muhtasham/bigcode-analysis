{
  "cells": [
    {
      "cell_type": "markdown",
      "metadata": {
        "id": "gYVMbT80pti0"
      },
      "source": [
        "# Analysis of natural language in Github issues"
      ]
    },
    {
      "cell_type": "markdown",
      "metadata": {
        "id": "BgOxysZCpti8"
      },
      "source": [
        "### Language identification\n",
        "\n",
        "We analyze a 2,000 subset of bigcode data."
      ]
    },
    {
      "cell_type": "code",
      "execution_count": 2,
      "metadata": {
        "colab": {
          "base_uri": "https://localhost:8080/"
        },
        "id": "b8D6fAg1pti8",
        "outputId": "ef6a1704-a4e1-49ab-9b1d-e5f938e3f1a8"
      },
      "outputs": [
        {
          "name": "stderr",
          "output_type": "stream",
          "text": [
            "WARNING:datasets.builder:Using custom data configuration bigcode--subset-github-issues-64ef5cdc6c7e0107\n",
            "WARNING:datasets.builder:Reusing dataset json (/root/.cache/huggingface/datasets/bigcode___json/bigcode--subset-github-issues-64ef5cdc6c7e0107/0.0.0/a3e658c4731e59120d44081ac10bf85dc7e1388126b92338344ce9661907f253)\n"
          ]
        }
      ],
      "source": [
        "from datasets import load_dataset\n",
        "\n",
        "ds = load_dataset(\"bigcode/subset-github-issues\", split=\"train\", use_auth_token=True)"
      ]
    },
    {
      "cell_type": "code",
      "execution_count": 3,
      "metadata": {
        "colab": {
          "base_uri": "https://localhost:8080/"
        },
        "id": "Y_ZL7YcLrztD",
        "outputId": "e0a65a14-0fe6-422b-99b1-a6f1f2a1ffd6"
      },
      "outputs": [
        {
          "data": {
            "text/plain": [
              "{'repo': 'justarrived/justarrived.github.io',\n",
              " 'org': 'justarrived',\n",
              " 'issue_id': 183724936,\n",
              " 'issue_number': 80,\n",
              " 'pull_request': None,\n",
              " 'events': [{'action': 'opened',\n",
              "   'author': 'tikkat',\n",
              "   'comment': None,\n",
              "   'comment_id': None,\n",
              "   'datetime': 1476805329000,\n",
              "   'description': '',\n",
              "   'title': 'Mobile header with hamburger menu dropdown',\n",
              "   'type': 'issue'},\n",
              "  {'action': 'closed',\n",
              "   'author': 'tikkat',\n",
              "   'comment': None,\n",
              "   'comment_id': None,\n",
              "   'datetime': 1476994993000,\n",
              "   'description': None,\n",
              "   'title': None,\n",
              "   'type': 'issue'}]}"
            ]
          },
          "execution_count": 3,
          "metadata": {},
          "output_type": "execute_result"
        }
      ],
      "source": [
        "ds[0]"
      ]
    },
    {
      "cell_type": "code",
      "execution_count": 4,
      "metadata": {
        "id": "1kbz7gKTrr_p"
      },
      "outputs": [],
      "source": [
        "# remove columns that are not needed\n",
        "ds = ds.remove_columns(['repo', 'org', 'issue_id', 'issue_number', 'pull_request'])"
      ]
    },
    {
      "cell_type": "code",
      "execution_count": 5,
      "metadata": {
        "colab": {
          "base_uri": "https://localhost:8080/"
        },
        "id": "i7dQ-7atZOmP",
        "outputId": "c54c3064-a07f-432e-8a40-61369564ef8a"
      },
      "outputs": [
        {
          "data": {
            "text/plain": [
              "Dataset({\n",
              "    features: ['events'],\n",
              "    num_rows: 10000\n",
              "})"
            ]
          },
          "execution_count": 5,
          "metadata": {},
          "output_type": "execute_result"
        }
      ],
      "source": [
        "ds"
      ]
    },
    {
      "cell_type": "code",
      "execution_count": 6,
      "metadata": {
        "colab": {
          "base_uri": "https://localhost:8080/"
        },
        "id": "phDUWvZErxDU",
        "outputId": "c3e818d3-02bb-4d35-b86d-51fe22f09539"
      },
      "outputs": [
        {
          "name": "stderr",
          "output_type": "stream",
          "text": [
            "WARNING:datasets.arrow_dataset:Loading cached processed dataset at /root/.cache/huggingface/datasets/bigcode___json/bigcode--subset-github-issues-64ef5cdc6c7e0107/0.0.0/a3e658c4731e59120d44081ac10bf85dc7e1388126b92338344ce9661907f253/cache-3c522cd4bd3a4f61.arrow\n",
            "WARNING:datasets.arrow_dataset:Loading cached processed dataset at /root/.cache/huggingface/datasets/bigcode___json/bigcode--subset-github-issues-64ef5cdc6c7e0107/0.0.0/a3e658c4731e59120d44081ac10bf85dc7e1388126b92338344ce9661907f253/cache-36302f377f585fd0.arrow\n",
            "WARNING:datasets.arrow_dataset:Loading cached processed dataset at /root/.cache/huggingface/datasets/bigcode___json/bigcode--subset-github-issues-64ef5cdc6c7e0107/0.0.0/a3e658c4731e59120d44081ac10bf85dc7e1388126b92338344ce9661907f253/cache-b69d90952daffff3.arrow\n"
          ]
        }
      ],
      "source": [
        "#for description and title extract inside events, create a new column called text and concatenate title and description if they are both not None\n",
        "#ds = ds.map(lambda x: {'text': [e['title'] + e['description'] + e['comment'] for e in x['events'] if e['title'] is not None and e['description'] is not None]})\n",
        "ds = ds.map(lambda x: {'text': str(x['title']) + str(x['description']) + str(x['comment']) for x in x['events']})\n",
        "#remove the word None from the text column\n",
        "ds = ds.map(lambda x: {'text': x['text'].replace('None', '')})\n",
        "#remove empty rows from the dataset\n",
        "ds = ds.filter(lambda x: len(x['text']) > 0)"
      ]
    },
    {
      "cell_type": "code",
      "execution_count": 7,
      "metadata": {
        "colab": {
          "base_uri": "https://localhost:8080/"
        },
        "id": "QXb3nZzuZ562",
        "outputId": "dee6f325-12f0-4f2c-8665-f993a9f65c30"
      },
      "outputs": [
        {
          "data": {
            "text/plain": [
              "{'events': [{'action': 'opened',\n",
              "   'author': 'd4mation',\n",
              "   'comment': None,\n",
              "   'comment_id': None,\n",
              "   'datetime': 1472089995000,\n",
              "   'description': \"The Public Version would fall short of other services like http://pokedextracker.com if it has no way to share the completion progress with another Users.\\r\\n\\r\\nGET parameters may be a way to get around this, provided it doesn't get too long.\\r\\n\\r\\nIt would be static, but better than nothing. Unfortunately that's the downside to not having a central database ¯\\\\\\\\\\\\_(ツ)\\\\_/¯\\r\\n\\r\\nBuilding on #3\",\n",
              "   'title': 'Ability to Share Views for Public Version',\n",
              "   'type': 'issue'}],\n",
              " 'text': \"Ability to Share Views for Public VersionThe Public Version would fall short of other services like http://pokedextracker.com if it has no way to share the completion progress with another Users.\\r\\n\\r\\nGET parameters may be a way to get around this, provided it doesn't get too long.\\r\\n\\r\\nIt would be static, but better than nothing. Unfortunately that's the downside to not having a central database ¯\\\\\\\\\\\\_(ツ)\\\\_/¯\\r\\n\\r\\nBuilding on #3\"}"
            ]
          },
          "execution_count": 7,
          "metadata": {},
          "output_type": "execute_result"
        }
      ],
      "source": [
        "ds[0]"
      ]
    },
    {
      "cell_type": "code",
      "execution_count": 8,
      "metadata": {
        "id": "rXMVSVRJr4So"
      },
      "outputs": [],
      "source": [
        "ds = ds.remove_columns(['events'])"
      ]
    },
    {
      "cell_type": "code",
      "execution_count": 9,
      "metadata": {
        "colab": {
          "base_uri": "https://localhost:8080/",
          "height": 53
        },
        "id": "9qC1F7tir_1s",
        "outputId": "daa83fd6-1af8-4b29-dfb7-4bbdc0472427"
      },
      "outputs": [
        {
          "data": {
            "application/vnd.google.colaboratory.intrinsic+json": {
              "type": "string"
            },
            "text/plain": [
              "\"Ability to Share Views for Public VersionThe Public Version would fall short of other services like http://pokedextracker.com if it has no way to share the completion progress with another Users.\\r\\n\\r\\nGET parameters may be a way to get around this, provided it doesn't get too long.\\r\\n\\r\\nIt would be static, but better than nothing. Unfortunately that's the downside to not having a central database ¯\\\\\\\\\\\\_(ツ)\\\\_/¯\\r\\n\\r\\nBuilding on #3\""
            ]
          },
          "execution_count": 9,
          "metadata": {},
          "output_type": "execute_result"
        }
      ],
      "source": [
        "ds[0]['text']"
      ]
    },
    {
      "cell_type": "code",
      "execution_count": 10,
      "metadata": {
        "id": "5HhOCokcsJ3x"
      },
      "outputs": [],
      "source": [
        "from language_identifier import extract_nl_text, FunctionDatasetModifyingDocuments"
      ]
    },
    {
      "cell_type": "code",
      "execution_count": 11,
      "metadata": {
        "colab": {
          "base_uri": "https://localhost:8080/"
        },
        "id": "iYR_wPV9a9TT",
        "outputId": "eee613cd-e5ec-4201-fced-1e3085602553"
      },
      "outputs": [
        {
          "data": {
            "text/plain": [
              "Dataset({\n",
              "    features: ['text'],\n",
              "    num_rows: 7136\n",
              "})"
            ]
          },
          "execution_count": 11,
          "metadata": {},
          "output_type": "execute_result"
        }
      ],
      "source": [
        "ds"
      ]
    },
    {
      "cell_type": "code",
      "execution_count": 12,
      "metadata": {
        "colab": {
          "base_uri": "https://localhost:8080/",
          "height": 49,
          "referenced_widgets": [
            "8232f623c0df4824ab4d5a0a0740cf67",
            "90bf6a50d2284075a8dd749a9fa54877",
            "944d1d9d3f4242aeac06b511eb3baf44",
            "ddfba5047c044566848af508cd51ce00",
            "69a3796c33b84ba9a763f7a1b00bb248",
            "4e666a5f96fc456c96fb159348691389",
            "39ddd241ecd84b9b916768751f718271",
            "b793c4582db8499a9e72ba063036c3ce",
            "51173a8d2c7b4ec6b55b2d13d36cd34c",
            "85d17d52f34b47199d2ae1e9e0100aba",
            "118ce80d80194229949d94173f09ce5e"
          ]
        },
        "id": "icHtJZnopti9",
        "outputId": "d8e32332-3e4e-4b72-a7e3-fc52a8f4283d"
      },
      "outputs": [
        {
          "data": {
            "application/vnd.jupyter.widget-view+json": {
              "model_id": "8232f623c0df4824ab4d5a0a0740cf67",
              "version_major": 2,
              "version_minor": 0
            },
            "text/plain": [
              "  0%|          | 0/7136 [00:00<?, ?ex/s]"
            ]
          },
          "metadata": {},
          "output_type": "display_data"
        }
      ],
      "source": [
        "dataset = ds\n",
        "# extraction of NL\n",
        "dataset = dataset.map(extract_nl_text)"
      ]
    },
    {
      "cell_type": "markdown",
      "metadata": {
        "id": "EvWl3MlZpti-"
      },
      "source": [
        "Two new columns in the dataset: nl_text with a string where the extracted dosctrings and comments are concatenated, nl_size: size of nl_text"
      ]
    },
    {
      "cell_type": "code",
      "execution_count": 13,
      "metadata": {
        "colab": {
          "base_uri": "https://localhost:8080/"
        },
        "id": "uMjOuyL8pti-",
        "outputId": "947dd2dd-dd71-4ae8-9757-c8eef297d33c"
      },
      "outputs": [
        {
          "data": {
            "text/plain": [
              "Dataset({\n",
              "    features: ['text', 'nl_text', 'nl_size'],\n",
              "    num_rows: 7136\n",
              "})"
            ]
          },
          "execution_count": 13,
          "metadata": {},
          "output_type": "execute_result"
        }
      ],
      "source": [
        "dataset"
      ]
    },
    {
      "cell_type": "code",
      "execution_count": 14,
      "metadata": {
        "colab": {
          "base_uri": "https://localhost:8080/",
          "height": 407
        },
        "id": "MNFTkA5Rpti-",
        "outputId": "4b766077-72d5-4bac-8920-1e489c26b19d"
      },
      "outputs": [
        {
          "data": {
            "text/plain": [
              "Text(0.5, 1.0, 'distribution of the size of issues titles+description+comments (on a 7k none empty subset)')"
            ]
          },
          "execution_count": 14,
          "metadata": {},
          "output_type": "execute_result"
        },
        {
          "data": {
            "image/png": "[encoded data removed]",
            "text/plain": [
              "<Figure size 648x432 with 1 Axes>"
            ]
          },
          "metadata": {
            "needs_background": "light"
          },
          "output_type": "display_data"
        }
      ],
      "source": [
        "from matplotlib import pyplot as plt\n",
        "import numpy as np\n",
        "\n",
        "plt.figure(figsize=(9,6))\n",
        "plt.hist(dataset['nl_size'], bins=np.linspace(0, 10_000, 200), alpha=0.4, label=\"length \")\n",
        "plt.legend(prop ={'size': 10})\n",
        "#truncated distribution\n",
        "plt.title(\"distribution of the size of issues titles+description+comments (on a 7k none empty subset)\")"
      ]
    },
    {
      "cell_type": "markdown",
      "metadata": {
        "id": "VXC9TXM3pti-"
      },
      "source": [
        "Now let's identify languages"
      ]
    },
    {
      "cell_type": "code",
      "execution_count": 15,
      "metadata": {
        "colab": {
          "base_uri": "https://localhost:8080/"
        },
        "id": "duZzThu5pti-",
        "outputId": "154358b6-ac17-4590-f318-dd2efba31402"
      },
      "outputs": [
        {
          "name": "stderr",
          "output_type": "stream",
          "text": [
            "Warning : `load_model` does not return WordVectorModel or SupervisedModel any more, but a `FastText` object which is very similar.\n"
          ]
        }
      ],
      "source": [
        "path_fasttext_model = \"fasttext_model/lid.176.bin\"\n",
        "func_dataset_modifying_documents = FunctionDatasetModifyingDocuments(\n",
        "    path_fasttext_model\n",
        ")"
      ]
    },
    {
      "cell_type": "code",
      "execution_count": 16,
      "metadata": {
        "colab": {
          "base_uri": "https://localhost:8080/",
          "height": 53
        },
        "id": "AfjL9grEpti_",
        "outputId": "24966d74-c49a-466b-b46b-823c1d51ec8d"
      },
      "outputs": [
        {
          "data": {
            "application/vnd.google.colaboratory.intrinsic+json": {
              "type": "string"
            },
            "text/plain": [
              "\"Ability to Share Views for Public VersionThe Public Version would fall short of other services like http://pokedextracker.com if it has no way to share the completion progress with another Users.\\r\\n\\r\\nGET parameters may be a way to get around this, provided it doesn't get too long.\\r\\n\\r\\nIt would be static, but better than nothing. Unfortunately that's the downside to not having a central database ¯\\\\\\\\\\\\_(ツ)\\\\_/¯\\r\\n\\r\\nBuilding on #3\""
            ]
          },
          "execution_count": 16,
          "metadata": {},
          "output_type": "execute_result"
        }
      ],
      "source": [
        "dataset[0][\"nl_text\"]"
      ]
    },
    {
      "cell_type": "code",
      "execution_count": 17,
      "metadata": {
        "id": "zD6vcJ2opti_"
      },
      "outputs": [],
      "source": [
        "output = func_dataset_modifying_documents(dataset[0])"
      ]
    },
    {
      "cell_type": "code",
      "execution_count": 18,
      "metadata": {
        "colab": {
          "base_uri": "https://localhost:8080/"
        },
        "id": "8bZC6Nnhpti_",
        "outputId": "83b1e38e-0cff-41fb-b694-cb5a8c0e6e69"
      },
      "outputs": [
        {
          "data": {
            "text/plain": [
              "dict_keys(['text', 'nl_text', 'nl_size', 'nl_language', 'nl_language_score'])"
            ]
          },
          "execution_count": 18,
          "metadata": {},
          "output_type": "execute_result"
        }
      ],
      "source": [
        "output.keys()"
      ]
    },
    {
      "cell_type": "code",
      "execution_count": 19,
      "metadata": {
        "colab": {
          "base_uri": "https://localhost:8080/"
        },
        "id": "34kISG2npti_",
        "outputId": "5546bc62-56cf-4e92-eef7-a4f2d08a253f"
      },
      "outputs": [
        {
          "name": "stdout",
          "output_type": "stream",
          "text": [
            "detected language id is: en\n",
            "Model prediction score of the language: 0.9506450295448303\n"
          ]
        }
      ],
      "source": [
        "print(f\"detected language id is: {output['nl_language']}\")\n",
        "print(f\"Model prediction score of the language: {output['nl_language_score']}\")"
      ]
    },
    {
      "cell_type": "code",
      "execution_count": 20,
      "metadata": {
        "colab": {
          "base_uri": "https://localhost:8080/"
        },
        "id": "g2K7mI9_pti_",
        "outputId": "a0c2ed00-3939-4f57-dc19-00686d762320"
      },
      "outputs": [
        {
          "name": "stdout",
          "output_type": "stream",
          "text": [
            "Closing as I was mistaken in thinking it was a conflict with this particular package. \r\n",
            "\r\n",
            "This is related to issue [#196](https://github.com/smashwilson/merge-conflicts/issues/196)\n"
          ]
        }
      ],
      "source": [
        "print(dataset[4][\"nl_text\"])"
      ]
    },
    {
      "cell_type": "code",
      "execution_count": 21,
      "metadata": {
        "colab": {
          "base_uri": "https://localhost:8080/"
        },
        "id": "Gglm6tZDpti_",
        "outputId": "0174b458-eecb-48f8-cda9-1191531a6a10"
      },
      "outputs": [
        {
          "name": "stdout",
          "output_type": "stream",
          "text": [
            "detected language id is: en\n",
            "Model prediction score of the language: 0.9665908813476562\n"
          ]
        }
      ],
      "source": [
        "output2 = func_dataset_modifying_documents(dataset[4])\n",
        "print(f\"detected language id is: {output2['nl_language']}\")\n",
        "# zh stands for Chinese\n",
        "print(f\"Model prediction score of the language: {output2['nl_language_score']}\")"
      ]
    },
    {
      "cell_type": "code",
      "execution_count": 22,
      "metadata": {
        "colab": {
          "base_uri": "https://localhost:8080/",
          "height": 53
        },
        "id": "Ti1Oddr1pti_",
        "outputId": "1fc9f485-d004-46b9-ed36-2670706cdc54"
      },
      "outputs": [
        {
          "data": {
            "application/vnd.google.colaboratory.intrinsic+json": {
              "type": "string"
            },
            "text/plain": [
              "\"Ability to Share Views for Public VersionThe Public Version would fall short of other services like http://pokedextracker.com if it has no way to share the completion progress with another Users.\\r\\n\\r\\nGET parameters may be a way to get around this, provided it doesn't get too long.\\r\\n\\r\\nIt would be static, but better than nothing. Unfortunately that's the downside to not having a central database ¯\\\\\\\\\\\\_(ツ)\\\\_/¯\\r\\n\\r\\nBuilding on #3\""
            ]
          },
          "execution_count": 22,
          "metadata": {},
          "output_type": "execute_result"
        }
      ],
      "source": [
        "dataset[0][\"nl_text\"]"
      ]
    },
    {
      "cell_type": "markdown",
      "metadata": {
        "id": "_F-tGZphpti_"
      },
      "source": [
        "Now let's run language detection on the full 2,000 samples subset"
      ]
    },
    {
      "cell_type": "code",
      "execution_count": 23,
      "metadata": {
        "colab": {
          "base_uri": "https://localhost:8080/",
          "height": 104,
          "referenced_widgets": [
            "37dfa63f71684b2dadb6202dccbc432e",
            "798ecacce3a341a793b6a61c2ccaffb6",
            "1dc9bb75cf654d7685823ae58433ddb5",
            "1f24d30b490f4f999c26b2b04c476119",
            "f26596c6fb1547568dc62decf2825ed2",
            "065f336a1c4a4836842f25ecb1905193",
            "661d4889a861496aa9d555b459228cdd",
            "9c75190585534e2895ed51ccb6a9cc91",
            "1a1153bf98fa449ab8dc3de72cacd866",
            "32b9c5355cd14f2784a2cb0fce8f8c59",
            "1a2045bd66594250a419e7a4924b5af6"
          ]
        },
        "id": "6jKxyepUptjA",
        "outputId": "cd89439f-a455-485b-f9c7-9f6e7fdd7410"
      },
      "outputs": [
        {
          "name": "stderr",
          "output_type": "stream",
          "text": [
            "WARNING:datasets.fingerprint:Parameter 'function'=<function Dataset.map.<locals>.decorate.<locals>.decorated at 0x7f0432bb2af0> of the transform datasets.arrow_dataset.Dataset._map_single couldn't be hashed properly, a random hash was used instead. Make sure your transforms and parameters are serializable with pickle or dill for the dataset fingerprinting and caching to work. If you reuse this transform, the caching mechanism will consider it to be different from the previous calls and recompute everything. This warning is only showed once. Subsequent hashing failures won't be showed.\n"
          ]
        },
        {
          "data": {
            "application/vnd.jupyter.widget-view+json": {
              "model_id": "37dfa63f71684b2dadb6202dccbc432e",
              "version_major": 2,
              "version_minor": 0
            },
            "text/plain": [
              "  0%|          | 0/7136 [00:00<?, ?ex/s]"
            ]
          },
          "metadata": {},
          "output_type": "display_data"
        },
        {
          "name": "stdout",
          "output_type": "stream",
          "text": [
            "Fasttext done\n"
          ]
        }
      ],
      "source": [
        "# Could be improved by allowing multiprocessing with map (currently doesn't work)\n",
        "dataset_language = dataset.map(\n",
        "    func_dataset_modifying_documents, num_proc=1\n",
        ")  # num_proc=cpu_count()\n",
        "print(\"Fasttext done\")"
      ]
    },
    {
      "cell_type": "code",
      "execution_count": 24,
      "metadata": {
        "colab": {
          "base_uri": "https://localhost:8080/"
        },
        "id": "12k8eLLjptjA",
        "outputId": "cece85fe-5105-4626-b7f8-44a1ba9df0aa"
      },
      "outputs": [
        {
          "data": {
            "text/plain": [
              "Dataset({\n",
              "    features: ['text', 'nl_text', 'nl_size', 'nl_language', 'nl_language_score'],\n",
              "    num_rows: 7136\n",
              "})"
            ]
          },
          "execution_count": 24,
          "metadata": {},
          "output_type": "execute_result"
        }
      ],
      "source": [
        "dataset_language"
      ]
    },
    {
      "cell_type": "code",
      "execution_count": 25,
      "metadata": {
        "colab": {
          "base_uri": "https://localhost:8080/"
        },
        "id": "LwPqzJvGptjA",
        "outputId": "342ece74-4db4-44cb-d41e-7cfb9a3bb85f"
      },
      "outputs": [
        {
          "name": "stdout",
          "output_type": "stream",
          "text": [
            "percentage of non english detected languages 6.670403587443946%\n"
          ]
        }
      ],
      "source": [
        "ratio = sum([1 if dataset_language[\"nl_language\"][i] != \"en\" else 0 for i in range(len(dataset))])/len(dataset)\n",
        "print(f\"percentage of non english detected languages {ratio*100}%\")"
      ]
    },
    {
      "cell_type": "code",
      "execution_count": 26,
      "metadata": {
        "colab": {
          "base_uri": "https://localhost:8080/"
        },
        "id": "JFmqTDzwptjA",
        "outputId": "54cf262e-f4d6-4f05-e204-38cc851b2cf3"
      },
      "outputs": [
        {
          "name": "stdout",
          "output_type": "stream",
          "text": [
            "2\n",
            "23\n",
            "62\n",
            "68\n",
            "79\n",
            "89\n",
            "113\n",
            "132\n",
            "134\n",
            "139\n"
          ]
        }
      ],
      "source": [
        "#languages that are'n english in the first 200 samples = 8%\n",
        "L = []\n",
        "for i in range(200):\n",
        "    if dataset_language[\"nl_language\"][i] != \"en\":\n",
        "        L.append(i)\n",
        "        print(i)"
      ]
    },
    {
      "cell_type": "markdown",
      "metadata": {
        "id": "peCFdDzmptjA"
      },
      "source": [
        "### successful detections"
      ]
    },
    {
      "cell_type": "code",
      "execution_count": 27,
      "metadata": {
        "colab": {
          "base_uri": "https://localhost:8080/"
        },
        "id": "sdUGmJQAptjA",
        "outputId": "2d9bcc55-7c63-40bc-ee07-1069fa6cb0e4"
      },
      "outputs": [
        {
          "name": "stdout",
          "output_type": "stream",
          "text": [
            "ko\n",
            "0.39888086915016174\n",
            "LGTM\n"
          ]
        }
      ],
      "source": [
        "print(dataset_language[\"nl_language\"][23])\n",
        "print(dataset_language[\"nl_language_score\"][23])\n",
        "print(dataset_language[\"nl_text\"][23])"
      ]
    },
    {
      "cell_type": "code",
      "execution_count": 28,
      "metadata": {
        "colab": {
          "base_uri": "https://localhost:8080/"
        },
        "id": "LG2mlPPkptjA",
        "outputId": "33d78dd0-3a64-4cc9-caee-cbc8855a0225"
      },
      "outputs": [
        {
          "name": "stdout",
          "output_type": "stream",
          "text": [
            "en\n",
            "0.9581831097602844\n",
            "Okay, I assumed it was of importance to keep it in the object definition and not use dot notation.\n"
          ]
        }
      ],
      "source": [
        "print(dataset_language[\"nl_language\"][52])\n",
        "print(dataset_language[\"nl_language_score\"][52])\n",
        "print(dataset_language[\"nl_text\"][52])"
      ]
    },
    {
      "cell_type": "code",
      "execution_count": 29,
      "metadata": {
        "colab": {
          "base_uri": "https://localhost:8080/"
        },
        "id": "o2aTrNq_ptjA",
        "outputId": "6862a768-78e1-475f-9eb1-a9f1f656244c"
      },
      "outputs": [
        {
          "name": "stdout",
          "output_type": "stream",
          "text": [
            "en\n",
            "0.8317049145698547\n",
            "**Hello! The name of the branch with this Pull Request is not of the `add-USERNAME` pattern so I'm skipping reviewing it for the Git-it challenges.**\n",
            "If you are completing the Git-it challenges, you'll need to close this Pull Request, rename your branch, push it to your fork of Patchwork on GitHub and then start a new Pull Request. Here's how to rename a branch and push it to GitHub from terminal:\n",
            "```bash\n",
            "$ git branch -m add-USERNAME\n",
            "$ git push origin add-USERNAME\n",
            "```\n"
          ]
        }
      ],
      "source": [
        "print(dataset_language[\"nl_language\"][75])\n",
        "print(dataset_language[\"nl_language_score\"][75])\n",
        "print(dataset_language[\"nl_text\"][75])"
      ]
    },
    {
      "cell_type": "code",
      "execution_count": 30,
      "metadata": {
        "colab": {
          "base_uri": "https://localhost:8080/"
        },
        "id": "B54a5wliptjA",
        "outputId": "43e8ab31-09dc-43f6-ca67-28180fc56e1c"
      },
      "outputs": [
        {
          "name": "stdout",
          "output_type": "stream",
          "text": [
            "en\n",
            "0.7654864192008972\n",
            "Abort the mission, fixing! D:\n"
          ]
        }
      ],
      "source": [
        "print(dataset_language[\"nl_language\"][77])\n",
        "print(dataset_language[\"nl_language_score\"][77])\n",
        "print(dataset_language[\"nl_text\"][77])"
      ]
    },
    {
      "cell_type": "code",
      "execution_count": 31,
      "metadata": {
        "colab": {
          "base_uri": "https://localhost:8080/"
        },
        "id": "B2xp_9V_ptjB",
        "outputId": "7f572758-82b8-47c1-c2bd-315e2c7548af"
      },
      "outputs": [
        {
          "name": "stdout",
          "output_type": "stream",
          "text": [
            "en\n",
            "0.987017810344696\n",
            "your call, either is fine I think. The commits stand on their own.\n"
          ]
        }
      ],
      "source": [
        "print(dataset_language[\"nl_language\"][138])\n",
        "print(dataset_language[\"nl_language_score\"][138])\n",
        "print(dataset_language[\"nl_text\"][138])"
      ]
    },
    {
      "cell_type": "code",
      "execution_count": 32,
      "metadata": {
        "colab": {
          "base_uri": "https://localhost:8080/"
        },
        "id": "JPeNy4uTptjB",
        "outputId": "5d1f6b74-ba0c-49bd-c9db-d54b02e774f3"
      },
      "outputs": [
        {
          "name": "stdout",
          "output_type": "stream",
          "text": [
            "en\n",
            "0.7688024640083313\n",
            "0.5.3 is now available.\n"
          ]
        }
      ],
      "source": [
        "print(dataset_language[\"nl_language\"][143])\n",
        "print(dataset_language[\"nl_language_score\"][143])\n",
        "print(dataset_language[\"nl_text\"][143])"
      ]
    },
    {
      "cell_type": "markdown",
      "metadata": {
        "id": "xLiSQZm3ptjB"
      },
      "source": [
        "### failures:"
      ]
    },
    {
      "cell_type": "code",
      "execution_count": 33,
      "metadata": {
        "colab": {
          "base_uri": "https://localhost:8080/"
        },
        "id": "YG2HZx3gptjB",
        "outputId": "fa2aefcb-0d5c-403d-a871-acd8b2c96a48"
      },
      "outputs": [
        {
          "name": "stdout",
          "output_type": "stream",
          "text": [
            "ko\n",
            "0.39888086915016174\n",
            "LGTM\n",
            "\n",
            "\n",
            "en\n",
            "0.8737061023712158\n",
            "Congratulations @tieguy @mattbk! We've landed this PR! 💃 \n",
            "\n",
            "It's now merged into an integration branch under #4221, whence it will go into master and out into production.\n",
            "\n",
            "Great work! 👏  😄\n",
            "\n",
            "!m @tieguy @mattbk \n",
            "\n",
            "\n",
            "en\n",
            "0.9804384112358093\n",
            "Okay thanks anyway!\n",
            "\n",
            "\n",
            "de\n",
            "0.353746235370636\n",
            "👍 \n"
          ]
        }
      ],
      "source": [
        "print(dataset_language[\"nl_language\"][79])\n",
        "print(dataset_language[\"nl_language_score\"][79])\n",
        "print(dataset_language[\"nl_text\"][79])\n",
        "print(\"\\n\")\n",
        "print(dataset_language[\"nl_language\"][11])\n",
        "print(dataset_language[\"nl_language_score\"][11])\n",
        "print(dataset_language[\"nl_text\"][11])\n",
        "print(\"\\n\")\n",
        "print(dataset_language[\"nl_language\"][110])\n",
        "print(dataset_language[\"nl_language_score\"][110])\n",
        "print(dataset_language[\"nl_text\"][110])\n",
        "print(\"\\n\")\n",
        "print(dataset_language[\"nl_language\"][139])\n",
        "print(dataset_language[\"nl_language_score\"][139])\n",
        "print(dataset_language[\"nl_text\"][139])"
      ]
    },
    {
      "cell_type": "code",
      "execution_count": 34,
      "metadata": {
        "colab": {
          "base_uri": "https://localhost:8080/",
          "height": 407
        },
        "id": "qrPZq3vTptjB",
        "outputId": "c08c2be2-4e57-42fa-d6f4-4e05813bc8e3"
      },
      "outputs": [
        {
          "data": {
            "text/plain": [
              "Text(0.5, 1.0, 'distribution of the size of issues titles+description+comments (on a 7k none empty subset)')"
            ]
          },
          "execution_count": 34,
          "metadata": {},
          "output_type": "execute_result"
        },
        {
          "data": {
            "image/png": "[encoded data removed]",
            "text/plain": [
              "<Figure size 648x432 with 1 Axes>"
            ]
          },
          "metadata": {
            "needs_background": "light"
          },
          "output_type": "display_data"
        }
      ],
      "source": [
        "#distribution of langauges\n",
        "\n",
        "from matplotlib import pyplot as plt\n",
        "import numpy as np\n",
        "\n",
        "plt.figure(figsize=(9,6))\n",
        "plt.hist(dataset['nl_size'], bins=np.linspace(0, 10_000, 200), alpha=0.4, label=\"length \")\n",
        "plt.legend(prop ={'size': 10})\n",
        "#truncated distribution\n",
        "plt.title(\"distribution of the size of issues titles+description+comments (on a 7k none empty subset)\")"
      ]
    },
    {
      "cell_type": "code",
      "execution_count": 35,
      "metadata": {
        "colab": {
          "base_uri": "https://localhost:8080/"
        },
        "id": "UhPyQ2A9ptjB",
        "outputId": "d15675b7-00f7-4312-fb2d-a76cc2fa4772"
      },
      "outputs": [
        {
          "data": {
            "text/plain": [
              "list"
            ]
          },
          "execution_count": 35,
          "metadata": {},
          "output_type": "execute_result"
        }
      ],
      "source": [
        "type(dataset_language[\"nl_language\"])"
      ]
    },
    {
      "cell_type": "code",
      "execution_count": 66,
      "metadata": {
        "colab": {
          "base_uri": "https://localhost:8080/",
          "height": 650
        },
        "id": "5CK8LCd7ptjC",
        "outputId": "ad1323a7-e8cc-48a6-cdb7-d98b56fe58d5"
      },
      "outputs": [
        {
          "name": "stderr",
          "output_type": "stream",
          "text": [
            "WARNING:matplotlib.legend:No handles with labels found to put in legend.\n"
          ]
        },
        {
          "data": {
            "text/plain": [
              "Text(0.5, 1.0, 'NL language distribution in train split of bigcode dataset GitHub Issues (7k None empty Set subset)')"
            ]
          },
          "execution_count": 66,
          "metadata": {},
          "output_type": "execute_result"
        },
        {
          "data": {
            "image/png": "[encoded data removed]",
            "text/plain": [
              "<Figure size 720x720 with 1 Axes>"
            ]
          },
          "metadata": {
            "needs_background": "light"
          },
          "output_type": "display_data"
        }
      ],
      "source": [
        "import pandas\n",
        "from collections import Counter\n",
        "letter_counts = Counter(dataset_language[\"nl_language\"])\n",
        "plt.figure(figsize=(10,10))\n",
        "plt.legend(prop ={'size': 10})\n",
        "plt.bar(letter_counts.keys(), letter_counts.values(), alpha=0.4, label=\"count\")\n",
        "plt.xticks(rotation=90)\n",
        "plt.title(\"NL language distribution in train split of bigcode dataset GitHub Issues (7k None empty Set subset)\")"
      ]
    },
    {
      "cell_type": "code",
      "execution_count": null,
      "metadata": {
        "id": "LwflCgHEewVb"
      },
      "outputs": [],
      "source": []
    }
  ],
  "metadata": {
    "colab": {
      "provenance": []
    },
    "interpreter": {
      "hash": "fd8fde6f83dada9276d12fdb71d773558994168ed1b3bea457b8db38c02aa2e1"
    },
    "kernelspec": {
      "display_name": "Python 3.10.4 ('venv')",
      "language": "python",
      "name": "python3"
    },
    "language_info": {
      "codemirror_mode": {
        "name": "ipython",
        "version": 3
      },
      "file_extension": ".py",
      "mimetype": "text/x-python",
      "name": "python",
      "nbconvert_exporter": "python",
      "pygments_lexer": "ipython3",
      "version": "3.10.4"
    },
    "orig_nbformat": 4,
    "widgets": {
      "application/vnd.jupyter.widget-state+json": {
        "065f336a1c4a4836842f25ecb1905193": {
          "model_module": "@jupyter-widgets/base",
          "model_module_version": "1.2.0",
          "model_name": "LayoutModel",
          "state": {
            "_model_module": "@jupyter-widgets/base",
            "_model_module_version": "1.2.0",
            "_model_name": "LayoutModel",
            "_view_count": null,
            "_view_module": "@jupyter-widgets/base",
            "_view_module_version": "1.2.0",
            "_view_name": "LayoutView",
            "align_content": null,
            "align_items": null,
            "align_self": null,
            "border": null,
            "bottom": null,
            "display": null,
            "flex": null,
            "flex_flow": null,
            "grid_area": null,
            "grid_auto_columns": null,
            "grid_auto_flow": null,
            "grid_auto_rows": null,
            "grid_column": null,
            "grid_gap": null,
            "grid_row": null,
            "grid_template_areas": null,
            "grid_template_columns": null,
            "grid_template_rows": null,
            "height": null,
            "justify_content": null,
            "justify_items": null,
            "left": null,
            "margin": null,
            "max_height": null,
            "max_width": null,
            "min_height": null,
            "min_width": null,
            "object_fit": null,
            "object_position": null,
            "order": null,
            "overflow": null,
            "overflow_x": null,
            "overflow_y": null,
            "padding": null,
            "right": null,
            "top": null,
            "visibility": null,
            "width": null
          }
        },
        "118ce80d80194229949d94173f09ce5e": {
          "model_module": "@jupyter-widgets/controls",
          "model_module_version": "1.5.0",
          "model_name": "DescriptionStyleModel",
          "state": {
            "_model_module": "@jupyter-widgets/controls",
            "_model_module_version": "1.5.0",
            "_model_name": "DescriptionStyleModel",
            "_view_count": null,
            "_view_module": "@jupyter-widgets/base",
            "_view_module_version": "1.2.0",
            "_view_name": "StyleView",
            "description_width": ""
          }
        },
        "1a1153bf98fa449ab8dc3de72cacd866": {
          "model_module": "@jupyter-widgets/controls",
          "model_module_version": "1.5.0",
          "model_name": "ProgressStyleModel",
          "state": {
            "_model_module": "@jupyter-widgets/controls",
            "_model_module_version": "1.5.0",
            "_model_name": "ProgressStyleModel",
            "_view_count": null,
            "_view_module": "@jupyter-widgets/base",
            "_view_module_version": "1.2.0",
            "_view_name": "StyleView",
            "bar_color": null,
            "description_width": ""
          }
        },
        "1a2045bd66594250a419e7a4924b5af6": {
          "model_module": "@jupyter-widgets/controls",
          "model_module_version": "1.5.0",
          "model_name": "DescriptionStyleModel",
          "state": {
            "_model_module": "@jupyter-widgets/controls",
            "_model_module_version": "1.5.0",
            "_model_name": "DescriptionStyleModel",
            "_view_count": null,
            "_view_module": "@jupyter-widgets/base",
            "_view_module_version": "1.2.0",
            "_view_name": "StyleView",
            "description_width": ""
          }
        },
        "1dc9bb75cf654d7685823ae58433ddb5": {
          "model_module": "@jupyter-widgets/controls",
          "model_module_version": "1.5.0",
          "model_name": "FloatProgressModel",
          "state": {
            "_dom_classes": [],
            "_model_module": "@jupyter-widgets/controls",
            "_model_module_version": "1.5.0",
            "_model_name": "FloatProgressModel",
            "_view_count": null,
            "_view_module": "@jupyter-widgets/controls",
            "_view_module_version": "1.5.0",
            "_view_name": "ProgressView",
            "bar_style": "success",
            "description": "",
            "description_tooltip": null,
            "layout": "IPY_MODEL_9c75190585534e2895ed51ccb6a9cc91",
            "max": 7136,
            "min": 0,
            "orientation": "horizontal",
            "style": "IPY_MODEL_1a1153bf98fa449ab8dc3de72cacd866",
            "value": 7136
          }
        },
        "1f24d30b490f4f999c26b2b04c476119": {
          "model_module": "@jupyter-widgets/controls",
          "model_module_version": "1.5.0",
          "model_name": "HTMLModel",
          "state": {
            "_dom_classes": [],
            "_model_module": "@jupyter-widgets/controls",
            "_model_module_version": "1.5.0",
            "_model_name": "HTMLModel",
            "_view_count": null,
            "_view_module": "@jupyter-widgets/controls",
            "_view_module_version": "1.5.0",
            "_view_name": "HTMLView",
            "description": "",
            "description_tooltip": null,
            "layout": "IPY_MODEL_32b9c5355cd14f2784a2cb0fce8f8c59",
            "placeholder": "​",
            "style": "IPY_MODEL_1a2045bd66594250a419e7a4924b5af6",
            "value": " 7136/7136 [00:02&lt;00:00, 2072.92ex/s]"
          }
        },
        "32b9c5355cd14f2784a2cb0fce8f8c59": {
          "model_module": "@jupyter-widgets/base",
          "model_module_version": "1.2.0",
          "model_name": "LayoutModel",
          "state": {
            "_model_module": "@jupyter-widgets/base",
            "_model_module_version": "1.2.0",
            "_model_name": "LayoutModel",
            "_view_count": null,
            "_view_module": "@jupyter-widgets/base",
            "_view_module_version": "1.2.0",
            "_view_name": "LayoutView",
            "align_content": null,
            "align_items": null,
            "align_self": null,
            "border": null,
            "bottom": null,
            "display": null,
            "flex": null,
            "flex_flow": null,
            "grid_area": null,
            "grid_auto_columns": null,
            "grid_auto_flow": null,
            "grid_auto_rows": null,
            "grid_column": null,
            "grid_gap": null,
            "grid_row": null,
            "grid_template_areas": null,
            "grid_template_columns": null,
            "grid_template_rows": null,
            "height": null,
            "justify_content": null,
            "justify_items": null,
            "left": null,
            "margin": null,
            "max_height": null,
            "max_width": null,
            "min_height": null,
            "min_width": null,
            "object_fit": null,
            "object_position": null,
            "order": null,
            "overflow": null,
            "overflow_x": null,
            "overflow_y": null,
            "padding": null,
            "right": null,
            "top": null,
            "visibility": null,
            "width": null
          }
        },
        "37dfa63f71684b2dadb6202dccbc432e": {
          "model_module": "@jupyter-widgets/controls",
          "model_module_version": "1.5.0",
          "model_name": "HBoxModel",
          "state": {
            "_dom_classes": [],
            "_model_module": "@jupyter-widgets/controls",
            "_model_module_version": "1.5.0",
            "_model_name": "HBoxModel",
            "_view_count": null,
            "_view_module": "@jupyter-widgets/controls",
            "_view_module_version": "1.5.0",
            "_view_name": "HBoxView",
            "box_style": "",
            "children": [
              "IPY_MODEL_798ecacce3a341a793b6a61c2ccaffb6",
              "IPY_MODEL_1dc9bb75cf654d7685823ae58433ddb5",
              "IPY_MODEL_1f24d30b490f4f999c26b2b04c476119"
            ],
            "layout": "IPY_MODEL_f26596c6fb1547568dc62decf2825ed2"
          }
        },
        "39ddd241ecd84b9b916768751f718271": {
          "model_module": "@jupyter-widgets/controls",
          "model_module_version": "1.5.0",
          "model_name": "DescriptionStyleModel",
          "state": {
            "_model_module": "@jupyter-widgets/controls",
            "_model_module_version": "1.5.0",
            "_model_name": "DescriptionStyleModel",
            "_view_count": null,
            "_view_module": "@jupyter-widgets/base",
            "_view_module_version": "1.2.0",
            "_view_name": "StyleView",
            "description_width": ""
          }
        },
        "4e666a5f96fc456c96fb159348691389": {
          "model_module": "@jupyter-widgets/base",
          "model_module_version": "1.2.0",
          "model_name": "LayoutModel",
          "state": {
            "_model_module": "@jupyter-widgets/base",
            "_model_module_version": "1.2.0",
            "_model_name": "LayoutModel",
            "_view_count": null,
            "_view_module": "@jupyter-widgets/base",
            "_view_module_version": "1.2.0",
            "_view_name": "LayoutView",
            "align_content": null,
            "align_items": null,
            "align_self": null,
            "border": null,
            "bottom": null,
            "display": null,
            "flex": null,
            "flex_flow": null,
            "grid_area": null,
            "grid_auto_columns": null,
            "grid_auto_flow": null,
            "grid_auto_rows": null,
            "grid_column": null,
            "grid_gap": null,
            "grid_row": null,
            "grid_template_areas": null,
            "grid_template_columns": null,
            "grid_template_rows": null,
            "height": null,
            "justify_content": null,
            "justify_items": null,
            "left": null,
            "margin": null,
            "max_height": null,
            "max_width": null,
            "min_height": null,
            "min_width": null,
            "object_fit": null,
            "object_position": null,
            "order": null,
            "overflow": null,
            "overflow_x": null,
            "overflow_y": null,
            "padding": null,
            "right": null,
            "top": null,
            "visibility": null,
            "width": null
          }
        },
        "51173a8d2c7b4ec6b55b2d13d36cd34c": {
          "model_module": "@jupyter-widgets/controls",
          "model_module_version": "1.5.0",
          "model_name": "ProgressStyleModel",
          "state": {
            "_model_module": "@jupyter-widgets/controls",
            "_model_module_version": "1.5.0",
            "_model_name": "ProgressStyleModel",
            "_view_count": null,
            "_view_module": "@jupyter-widgets/base",
            "_view_module_version": "1.2.0",
            "_view_name": "StyleView",
            "bar_color": null,
            "description_width": ""
          }
        },
        "661d4889a861496aa9d555b459228cdd": {
          "model_module": "@jupyter-widgets/controls",
          "model_module_version": "1.5.0",
          "model_name": "DescriptionStyleModel",
          "state": {
            "_model_module": "@jupyter-widgets/controls",
            "_model_module_version": "1.5.0",
            "_model_name": "DescriptionStyleModel",
            "_view_count": null,
            "_view_module": "@jupyter-widgets/base",
            "_view_module_version": "1.2.0",
            "_view_name": "StyleView",
            "description_width": ""
          }
        },
        "69a3796c33b84ba9a763f7a1b00bb248": {
          "model_module": "@jupyter-widgets/base",
          "model_module_version": "1.2.0",
          "model_name": "LayoutModel",
          "state": {
            "_model_module": "@jupyter-widgets/base",
            "_model_module_version": "1.2.0",
            "_model_name": "LayoutModel",
            "_view_count": null,
            "_view_module": "@jupyter-widgets/base",
            "_view_module_version": "1.2.0",
            "_view_name": "LayoutView",
            "align_content": null,
            "align_items": null,
            "align_self": null,
            "border": null,
            "bottom": null,
            "display": null,
            "flex": null,
            "flex_flow": null,
            "grid_area": null,
            "grid_auto_columns": null,
            "grid_auto_flow": null,
            "grid_auto_rows": null,
            "grid_column": null,
            "grid_gap": null,
            "grid_row": null,
            "grid_template_areas": null,
            "grid_template_columns": null,
            "grid_template_rows": null,
            "height": null,
            "justify_content": null,
            "justify_items": null,
            "left": null,
            "margin": null,
            "max_height": null,
            "max_width": null,
            "min_height": null,
            "min_width": null,
            "object_fit": null,
            "object_position": null,
            "order": null,
            "overflow": null,
            "overflow_x": null,
            "overflow_y": null,
            "padding": null,
            "right": null,
            "top": null,
            "visibility": null,
            "width": null
          }
        },
        "798ecacce3a341a793b6a61c2ccaffb6": {
          "model_module": "@jupyter-widgets/controls",
          "model_module_version": "1.5.0",
          "model_name": "HTMLModel",
          "state": {
            "_dom_classes": [],
            "_model_module": "@jupyter-widgets/controls",
            "_model_module_version": "1.5.0",
            "_model_name": "HTMLModel",
            "_view_count": null,
            "_view_module": "@jupyter-widgets/controls",
            "_view_module_version": "1.5.0",
            "_view_name": "HTMLView",
            "description": "",
            "description_tooltip": null,
            "layout": "IPY_MODEL_065f336a1c4a4836842f25ecb1905193",
            "placeholder": "​",
            "style": "IPY_MODEL_661d4889a861496aa9d555b459228cdd",
            "value": "100%"
          }
        },
        "8232f623c0df4824ab4d5a0a0740cf67": {
          "model_module": "@jupyter-widgets/controls",
          "model_module_version": "1.5.0",
          "model_name": "HBoxModel",
          "state": {
            "_dom_classes": [],
            "_model_module": "@jupyter-widgets/controls",
            "_model_module_version": "1.5.0",
            "_model_name": "HBoxModel",
            "_view_count": null,
            "_view_module": "@jupyter-widgets/controls",
            "_view_module_version": "1.5.0",
            "_view_name": "HBoxView",
            "box_style": "",
            "children": [
              "IPY_MODEL_90bf6a50d2284075a8dd749a9fa54877",
              "IPY_MODEL_944d1d9d3f4242aeac06b511eb3baf44",
              "IPY_MODEL_ddfba5047c044566848af508cd51ce00"
            ],
            "layout": "IPY_MODEL_69a3796c33b84ba9a763f7a1b00bb248"
          }
        },
        "85d17d52f34b47199d2ae1e9e0100aba": {
          "model_module": "@jupyter-widgets/base",
          "model_module_version": "1.2.0",
          "model_name": "LayoutModel",
          "state": {
            "_model_module": "@jupyter-widgets/base",
            "_model_module_version": "1.2.0",
            "_model_name": "LayoutModel",
            "_view_count": null,
            "_view_module": "@jupyter-widgets/base",
            "_view_module_version": "1.2.0",
            "_view_name": "LayoutView",
            "align_content": null,
            "align_items": null,
            "align_self": null,
            "border": null,
            "bottom": null,
            "display": null,
            "flex": null,
            "flex_flow": null,
            "grid_area": null,
            "grid_auto_columns": null,
            "grid_auto_flow": null,
            "grid_auto_rows": null,
            "grid_column": null,
            "grid_gap": null,
            "grid_row": null,
            "grid_template_areas": null,
            "grid_template_columns": null,
            "grid_template_rows": null,
            "height": null,
            "justify_content": null,
            "justify_items": null,
            "left": null,
            "margin": null,
            "max_height": null,
            "max_width": null,
            "min_height": null,
            "min_width": null,
            "object_fit": null,
            "object_position": null,
            "order": null,
            "overflow": null,
            "overflow_x": null,
            "overflow_y": null,
            "padding": null,
            "right": null,
            "top": null,
            "visibility": null,
            "width": null
          }
        },
        "90bf6a50d2284075a8dd749a9fa54877": {
          "model_module": "@jupyter-widgets/controls",
          "model_module_version": "1.5.0",
          "model_name": "HTMLModel",
          "state": {
            "_dom_classes": [],
            "_model_module": "@jupyter-widgets/controls",
            "_model_module_version": "1.5.0",
            "_model_name": "HTMLModel",
            "_view_count": null,
            "_view_module": "@jupyter-widgets/controls",
            "_view_module_version": "1.5.0",
            "_view_name": "HTMLView",
            "description": "",
            "description_tooltip": null,
            "layout": "IPY_MODEL_4e666a5f96fc456c96fb159348691389",
            "placeholder": "​",
            "style": "IPY_MODEL_39ddd241ecd84b9b916768751f718271",
            "value": "100%"
          }
        },
        "944d1d9d3f4242aeac06b511eb3baf44": {
          "model_module": "@jupyter-widgets/controls",
          "model_module_version": "1.5.0",
          "model_name": "FloatProgressModel",
          "state": {
            "_dom_classes": [],
            "_model_module": "@jupyter-widgets/controls",
            "_model_module_version": "1.5.0",
            "_model_name": "FloatProgressModel",
            "_view_count": null,
            "_view_module": "@jupyter-widgets/controls",
            "_view_module_version": "1.5.0",
            "_view_name": "ProgressView",
            "bar_style": "success",
            "description": "",
            "description_tooltip": null,
            "layout": "IPY_MODEL_b793c4582db8499a9e72ba063036c3ce",
            "max": 7136,
            "min": 0,
            "orientation": "horizontal",
            "style": "IPY_MODEL_51173a8d2c7b4ec6b55b2d13d36cd34c",
            "value": 7136
          }
        },
        "9c75190585534e2895ed51ccb6a9cc91": {
          "model_module": "@jupyter-widgets/base",
          "model_module_version": "1.2.0",
          "model_name": "LayoutModel",
          "state": {
            "_model_module": "@jupyter-widgets/base",
            "_model_module_version": "1.2.0",
            "_model_name": "LayoutModel",
            "_view_count": null,
            "_view_module": "@jupyter-widgets/base",
            "_view_module_version": "1.2.0",
            "_view_name": "LayoutView",
            "align_content": null,
            "align_items": null,
            "align_self": null,
            "border": null,
            "bottom": null,
            "display": null,
            "flex": null,
            "flex_flow": null,
            "grid_area": null,
            "grid_auto_columns": null,
            "grid_auto_flow": null,
            "grid_auto_rows": null,
            "grid_column": null,
            "grid_gap": null,
            "grid_row": null,
            "grid_template_areas": null,
            "grid_template_columns": null,
            "grid_template_rows": null,
            "height": null,
            "justify_content": null,
            "justify_items": null,
            "left": null,
            "margin": null,
            "max_height": null,
            "max_width": null,
            "min_height": null,
            "min_width": null,
            "object_fit": null,
            "object_position": null,
            "order": null,
            "overflow": null,
            "overflow_x": null,
            "overflow_y": null,
            "padding": null,
            "right": null,
            "top": null,
            "visibility": null,
            "width": null
          }
        },
        "b793c4582db8499a9e72ba063036c3ce": {
          "model_module": "@jupyter-widgets/base",
          "model_module_version": "1.2.0",
          "model_name": "LayoutModel",
          "state": {
            "_model_module": "@jupyter-widgets/base",
            "_model_module_version": "1.2.0",
            "_model_name": "LayoutModel",
            "_view_count": null,
            "_view_module": "@jupyter-widgets/base",
            "_view_module_version": "1.2.0",
            "_view_name": "LayoutView",
            "align_content": null,
            "align_items": null,
            "align_self": null,
            "border": null,
            "bottom": null,
            "display": null,
            "flex": null,
            "flex_flow": null,
            "grid_area": null,
            "grid_auto_columns": null,
            "grid_auto_flow": null,
            "grid_auto_rows": null,
            "grid_column": null,
            "grid_gap": null,
            "grid_row": null,
            "grid_template_areas": null,
            "grid_template_columns": null,
            "grid_template_rows": null,
            "height": null,
            "justify_content": null,
            "justify_items": null,
            "left": null,
            "margin": null,
            "max_height": null,
            "max_width": null,
            "min_height": null,
            "min_width": null,
            "object_fit": null,
            "object_position": null,
            "order": null,
            "overflow": null,
            "overflow_x": null,
            "overflow_y": null,
            "padding": null,
            "right": null,
            "top": null,
            "visibility": null,
            "width": null
          }
        },
        "ddfba5047c044566848af508cd51ce00": {
          "model_module": "@jupyter-widgets/controls",
          "model_module_version": "1.5.0",
          "model_name": "HTMLModel",
          "state": {
            "_dom_classes": [],
            "_model_module": "@jupyter-widgets/controls",
            "_model_module_version": "1.5.0",
            "_model_name": "HTMLModel",
            "_view_count": null,
            "_view_module": "@jupyter-widgets/controls",
            "_view_module_version": "1.5.0",
            "_view_name": "HTMLView",
            "description": "",
            "description_tooltip": null,
            "layout": "IPY_MODEL_85d17d52f34b47199d2ae1e9e0100aba",
            "placeholder": "​",
            "style": "IPY_MODEL_118ce80d80194229949d94173f09ce5e",
            "value": " 7136/7136 [00:00&lt;00:00, 10309.85ex/s]"
          }
        },
        "f26596c6fb1547568dc62decf2825ed2": {
          "model_module": "@jupyter-widgets/base",
          "model_module_version": "1.2.0",
          "model_name": "LayoutModel",
          "state": {
            "_model_module": "@jupyter-widgets/base",
            "_model_module_version": "1.2.0",
            "_model_name": "LayoutModel",
            "_view_count": null,
            "_view_module": "@jupyter-widgets/base",
            "_view_module_version": "1.2.0",
            "_view_name": "LayoutView",
            "align_content": null,
            "align_items": null,
            "align_self": null,
            "border": null,
            "bottom": null,
            "display": null,
            "flex": null,
            "flex_flow": null,
            "grid_area": null,
            "grid_auto_columns": null,
            "grid_auto_flow": null,
            "grid_auto_rows": null,
            "grid_column": null,
            "grid_gap": null,
            "grid_row": null,
            "grid_template_areas": null,
            "grid_template_columns": null,
            "grid_template_rows": null,
            "height": null,
            "justify_content": null,
            "justify_items": null,
            "left": null,
            "margin": null,
            "max_height": null,
            "max_width": null,
            "min_height": null,
            "min_width": null,
            "object_fit": null,
            "object_position": null,
            "order": null,
            "overflow": null,
            "overflow_x": null,
            "overflow_y": null,
            "padding": null,
            "right": null,
            "top": null,
            "visibility": null,
            "width": null
          }
        }
      }
    }
  },
  "nbformat": 4,
  "nbformat_minor": 0
}
