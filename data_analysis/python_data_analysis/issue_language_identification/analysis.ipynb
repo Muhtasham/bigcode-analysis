{
  "cells": [
    {
      "cell_type": "markdown",
      "metadata": {
        "id": "gYVMbT80pti0"
      },
      "source": [
        "# Analysis of natural language in Github issues"
      ]
    },
    {
      "cell_type": "markdown",
      "metadata": {
        "id": "BgOxysZCpti8"
      },
      "source": [
        "### Language identification\n",
        "\n",
        "We analyze a 2,000 subset of bigcode data."
      ]
    },
    {
      "cell_type": "code",
      "execution_count": 1,
      "metadata": {
        "colab": {
          "base_uri": "https://localhost:8080/"
        },
        "id": "b8D6fAg1pti8",
        "outputId": "b99ea047-23fc-42a9-970d-dd865c26bd22"
      },
      "outputs": [
        {
          "output_type": "stream",
          "name": "stderr",
          "text": [
            "WARNING:datasets.builder:Using custom data configuration bigcode--subset-github-issues-64ef5cdc6c7e0107\n",
            "WARNING:datasets.builder:Reusing dataset json (/root/.cache/huggingface/datasets/bigcode___json/bigcode--subset-github-issues-64ef5cdc6c7e0107/0.0.0/a3e658c4731e59120d44081ac10bf85dc7e1388126b92338344ce9661907f253)\n"
          ]
        }
      ],
      "source": [
        "from datasets import load_dataset\n",
        "\n",
        "ds = load_dataset(\"bigcode/subset-github-issues\", split=\"train\", use_auth_token=True)"
      ]
    },
    {
      "cell_type": "code",
      "source": [
        "ds[0]"
      ],
      "metadata": {
        "colab": {
          "base_uri": "https://localhost:8080/"
        },
        "id": "Y_ZL7YcLrztD",
        "outputId": "b433c376-8161-4474-c1d6-b00b1ba0169a"
      },
      "execution_count": 2,
      "outputs": [
        {
          "output_type": "execute_result",
          "data": {
            "text/plain": [
              "{'repo': 'justarrived/justarrived.github.io',\n",
              " 'org': 'justarrived',\n",
              " 'issue_id': 183724936,\n",
              " 'issue_number': 80,\n",
              " 'pull_request': None,\n",
              " 'events': [{'action': 'opened',\n",
              "   'author': 'tikkat',\n",
              "   'comment': None,\n",
              "   'comment_id': None,\n",
              "   'datetime': 1476805329000,\n",
              "   'description': '',\n",
              "   'title': 'Mobile header with hamburger menu dropdown',\n",
              "   'type': 'issue'},\n",
              "  {'action': 'closed',\n",
              "   'author': 'tikkat',\n",
              "   'comment': None,\n",
              "   'comment_id': None,\n",
              "   'datetime': 1476994993000,\n",
              "   'description': None,\n",
              "   'title': None,\n",
              "   'type': 'issue'}]}"
            ]
          },
          "metadata": {},
          "execution_count": 2
        }
      ]
    },
    {
      "cell_type": "code",
      "source": [
        "# remove columns that are not needed\n",
        "ds = ds.remove_columns(['repo', 'org', 'issue_id', 'issue_number', 'pull_request'])"
      ],
      "metadata": {
        "id": "1kbz7gKTrr_p"
      },
      "execution_count": 3,
      "outputs": []
    },
    {
      "cell_type": "code",
      "source": [
        "#for description and title extract inside events, create a new column called text and concatenate title and description if they are both not None\n",
        "ds = ds.map(lambda x: {'text': [e['title'] + e['description'] for e in x['events'] if e['title'] is not None and e['description'] is not None]})\n",
        "#now convert the list of strings to a single string and remove the list\n",
        "ds = ds.map(lambda x: {'text': ' '.join(x['text'])})"
      ],
      "metadata": {
        "colab": {
          "base_uri": "https://localhost:8080/"
        },
        "id": "phDUWvZErxDU",
        "outputId": "7fcf99f4-e9ef-4ad6-9586-d7efdb924594"
      },
      "execution_count": 4,
      "outputs": [
        {
          "output_type": "stream",
          "name": "stderr",
          "text": [
            "WARNING:datasets.arrow_dataset:Loading cached processed dataset at /root/.cache/huggingface/datasets/bigcode___json/bigcode--subset-github-issues-64ef5cdc6c7e0107/0.0.0/a3e658c4731e59120d44081ac10bf85dc7e1388126b92338344ce9661907f253/cache-42236ea2cd473c96.arrow\n",
            "WARNING:datasets.arrow_dataset:Loading cached processed dataset at /root/.cache/huggingface/datasets/bigcode___json/bigcode--subset-github-issues-64ef5cdc6c7e0107/0.0.0/a3e658c4731e59120d44081ac10bf85dc7e1388126b92338344ce9661907f253/cache-4c8112cad4aa0df3.arrow\n"
          ]
        }
      ]
    },
    {
      "cell_type": "code",
      "source": [
        "ds = ds.remove_columns(['events'])"
      ],
      "metadata": {
        "id": "rXMVSVRJr4So"
      },
      "execution_count": 5,
      "outputs": []
    },
    {
      "cell_type": "code",
      "source": [
        "ds[0]['text']"
      ],
      "metadata": {
        "colab": {
          "base_uri": "https://localhost:8080/",
          "height": 35
        },
        "id": "9qC1F7tir_1s",
        "outputId": "f810fd18-0222-463f-cba7-1f7900c6535d"
      },
      "execution_count": 6,
      "outputs": [
        {
          "output_type": "execute_result",
          "data": {
            "text/plain": [
              "'Mobile header with hamburger menu dropdown'"
            ],
            "application/vnd.google.colaboratory.intrinsic+json": {
              "type": "string"
            }
          },
          "metadata": {},
          "execution_count": 6
        }
      ]
    },
    {
      "cell_type": "code",
      "source": [
        "from language_identifier import extract_nl_text, FunctionDatasetModifyingDocuments"
      ],
      "metadata": {
        "id": "5HhOCokcsJ3x"
      },
      "execution_count": 9,
      "outputs": []
    },
    {
      "cell_type": "code",
      "execution_count": 10,
      "metadata": {
        "colab": {
          "base_uri": "https://localhost:8080/",
          "height": 49,
          "referenced_widgets": [
            "28289e37157f42da8cf8ac19b34fd64c",
            "869e6ef576d34db4881374b46453e33d",
            "a829fa3f974544549c511c25b9988660",
            "de9ff53ed9694511ba2517f6ebdaf757",
            "2191cb8af0ae4a32a987dfe61f9f7ed3",
            "e4b319fab02b4392bfbfa3187ec75611",
            "a4df8900b727411ca4a4aa4b4fc092e0",
            "65d4a53b0ee64edeae99ad5de2b40e24",
            "3e4bb2703e694f3a8bee2e41856b5da0",
            "b7111f31eb9c4c9b85599c0f17404caf",
            "a22df46a829e412380dd18abbf77e117"
          ]
        },
        "id": "icHtJZnopti9",
        "outputId": "a330ad66-d09c-46e4-f292-0c2e5f7c91d0"
      },
      "outputs": [
        {
          "output_type": "display_data",
          "data": {
            "text/plain": [
              "  0%|          | 0/2000 [00:00<?, ?ex/s]"
            ],
            "application/vnd.jupyter.widget-view+json": {
              "version_major": 2,
              "version_minor": 0,
              "model_id": "28289e37157f42da8cf8ac19b34fd64c"
            }
          },
          "metadata": {}
        }
      ],
      "source": [
        "dataset = ds.select([i for i in range(2000)])\n",
        "# extraction of NL\n",
        "dataset = dataset.map(extract_nl_text)"
      ]
    },
    {
      "cell_type": "markdown",
      "metadata": {
        "id": "EvWl3MlZpti-"
      },
      "source": [
        "Two new columns in the dataset: nl_text with a string where the extracted dosctrings and comments are concatenated, nl_size: size of nl_text"
      ]
    },
    {
      "cell_type": "code",
      "execution_count": 11,
      "metadata": {
        "colab": {
          "base_uri": "https://localhost:8080/"
        },
        "id": "uMjOuyL8pti-",
        "outputId": "979fa7b6-48cb-4e98-8173-76aee1e15033"
      },
      "outputs": [
        {
          "output_type": "execute_result",
          "data": {
            "text/plain": [
              "Dataset({\n",
              "    features: ['text', 'nl_text', 'nl_size'],\n",
              "    num_rows: 2000\n",
              "})"
            ]
          },
          "metadata": {},
          "execution_count": 11
        }
      ],
      "source": [
        "dataset"
      ]
    },
    {
      "cell_type": "code",
      "execution_count": 12,
      "metadata": {
        "colab": {
          "base_uri": "https://localhost:8080/",
          "height": 407
        },
        "id": "MNFTkA5Rpti-",
        "outputId": "16c0d090-06c2-4fff-8b00-85673c40f9b4"
      },
      "outputs": [
        {
          "output_type": "execute_result",
          "data": {
            "text/plain": [
              "Text(0.5, 1.0, 'distribution of the size of issues titles+comments (on a 2k subset)')"
            ]
          },
          "metadata": {},
          "execution_count": 12
        },
        {
          "output_type": "display_data",
          "data": {
            "text/plain": [
              "<Figure size 648x432 with 1 Axes>"
            ],
            "image/png": "[encoded data removed]"
          },
          "metadata": {
            "needs_background": "light"
          }
        }
      ],
      "source": [
        "from matplotlib import pyplot as plt\n",
        "import numpy as np\n",
        "\n",
        "plt.figure(figsize=(9,6))\n",
        "plt.hist(dataset['nl_size'], bins=np.linspace(0, 10_000, 200), alpha=0.4, label=\"length \")\n",
        "plt.legend(prop ={'size': 10})\n",
        "#truncated distribution\n",
        "plt.title(\"distribution of the size of issues titles+comments (on a 2k subset)\")"
      ]
    },
    {
      "cell_type": "markdown",
      "metadata": {
        "id": "VXC9TXM3pti-"
      },
      "source": [
        "Now let's identify languages"
      ]
    },
    {
      "cell_type": "code",
      "execution_count": 13,
      "metadata": {
        "colab": {
          "base_uri": "https://localhost:8080/"
        },
        "id": "duZzThu5pti-",
        "outputId": "e12f294c-8581-4197-b386-d0fb031b2a12"
      },
      "outputs": [
        {
          "output_type": "stream",
          "name": "stderr",
          "text": [
            "Warning : `load_model` does not return WordVectorModel or SupervisedModel any more, but a `FastText` object which is very similar.\n"
          ]
        }
      ],
      "source": [
        "path_fasttext_model = \"fasttext_model/lid.176.bin\"\n",
        "func_dataset_modifying_documents = FunctionDatasetModifyingDocuments(\n",
        "    path_fasttext_model\n",
        ")"
      ]
    },
    {
      "cell_type": "code",
      "execution_count": 14,
      "metadata": {
        "colab": {
          "base_uri": "https://localhost:8080/",
          "height": 35
        },
        "id": "AfjL9grEpti_",
        "outputId": "1008635a-5536-486c-f044-befae161acd4"
      },
      "outputs": [
        {
          "output_type": "execute_result",
          "data": {
            "text/plain": [
              "'Mobile header with hamburger menu dropdown'"
            ],
            "application/vnd.google.colaboratory.intrinsic+json": {
              "type": "string"
            }
          },
          "metadata": {},
          "execution_count": 14
        }
      ],
      "source": [
        "dataset[0][\"nl_text\"]"
      ]
    },
    {
      "cell_type": "code",
      "execution_count": 15,
      "metadata": {
        "id": "zD6vcJ2opti_"
      },
      "outputs": [],
      "source": [
        "output = func_dataset_modifying_documents(dataset[0])"
      ]
    },
    {
      "cell_type": "code",
      "execution_count": 16,
      "metadata": {
        "colab": {
          "base_uri": "https://localhost:8080/"
        },
        "id": "8bZC6Nnhpti_",
        "outputId": "5fd93654-5c3f-440f-9510-46c40c8908a6"
      },
      "outputs": [
        {
          "output_type": "execute_result",
          "data": {
            "text/plain": [
              "dict_keys(['text', 'nl_text', 'nl_size', 'nl_language', 'nl_language_score'])"
            ]
          },
          "metadata": {},
          "execution_count": 16
        }
      ],
      "source": [
        "output.keys()"
      ]
    },
    {
      "cell_type": "code",
      "execution_count": 17,
      "metadata": {
        "colab": {
          "base_uri": "https://localhost:8080/"
        },
        "id": "34kISG2npti_",
        "outputId": "e7b8b19c-7733-4dc4-f7cf-a21043f78b6d"
      },
      "outputs": [
        {
          "output_type": "stream",
          "name": "stdout",
          "text": [
            "detected language id is: en\n",
            "Model prediction score of the language: 0.4267280399799347\n"
          ]
        }
      ],
      "source": [
        "print(f\"detected language id is: {output['nl_language']}\")\n",
        "print(f\"Model prediction score of the language: {output['nl_language_score']}\")"
      ]
    },
    {
      "cell_type": "code",
      "execution_count": 18,
      "metadata": {
        "colab": {
          "base_uri": "https://localhost:8080/"
        },
        "id": "g2K7mI9_pti_",
        "outputId": "fad40985-6990-400b-9270-57c4edbc6493"
      },
      "outputs": [
        {
          "output_type": "stream",
          "name": "stdout",
          "text": [
            "add HTTP Proxy support to AIOThis PR adds HTTP Proxy support to the AIO installer via Hiera. Relies on the behavior to soucre `/etc/environment`, all supported systems do either natively or via system init scripts.\n"
          ]
        }
      ],
      "source": [
        "print(dataset[4][\"nl_text\"])"
      ]
    },
    {
      "cell_type": "code",
      "execution_count": 19,
      "metadata": {
        "colab": {
          "base_uri": "https://localhost:8080/"
        },
        "id": "Gglm6tZDpti_",
        "outputId": "176924de-1852-43c7-e918-3d6a9f750034"
      },
      "outputs": [
        {
          "output_type": "stream",
          "name": "stdout",
          "text": [
            "detected language id is: en\n",
            "Model prediction score of the language: 0.6716512441635132\n"
          ]
        }
      ],
      "source": [
        "output2 = func_dataset_modifying_documents(dataset[4])\n",
        "print(f\"detected language id is: {output2['nl_language']}\")\n",
        "# zh stands for Chinese\n",
        "print(f\"Model prediction score of the language: {output2['nl_language_score']}\")"
      ]
    },
    {
      "cell_type": "code",
      "execution_count": 20,
      "metadata": {
        "colab": {
          "base_uri": "https://localhost:8080/",
          "height": 35
        },
        "id": "Ti1Oddr1pti_",
        "outputId": "1f856f80-0e53-4b05-8dee-01c10cec9600"
      },
      "outputs": [
        {
          "output_type": "execute_result",
          "data": {
            "text/plain": [
              "'Mobile header with hamburger menu dropdown'"
            ],
            "application/vnd.google.colaboratory.intrinsic+json": {
              "type": "string"
            }
          },
          "metadata": {},
          "execution_count": 20
        }
      ],
      "source": [
        "dataset[0][\"nl_text\"]"
      ]
    },
    {
      "cell_type": "markdown",
      "metadata": {
        "id": "_F-tGZphpti_"
      },
      "source": [
        "Now let's run language detection on the full 2,000 samples subset"
      ]
    },
    {
      "cell_type": "code",
      "execution_count": 21,
      "metadata": {
        "colab": {
          "base_uri": "https://localhost:8080/",
          "height": 104,
          "referenced_widgets": [
            "470744ecadfe4216957d071426387a23",
            "2d80f42676774029abc65503d9edd2c7",
            "57316778d24745dca20efc7837f552ab",
            "6271e888c8bd474a83a4f58e4350fe95",
            "b6418feb65ac4f05bb22af1d7a788ca6",
            "aaea87afef8c4d46807b1ed11a1385c6",
            "53793e96db234fe793ef7e459cbb58a2",
            "6763f5d4c8cc40d5b94c05d9d57e7cc0",
            "93ce84f7a8644a3689b99c34486e7a8c",
            "45ea4fd6a07948ba8e9030bbe23ed0fe",
            "be9beb5dd2cf492ea43685a9807d1616"
          ]
        },
        "id": "6jKxyepUptjA",
        "outputId": "43aaa35b-e57e-4559-998a-f60aec88e708"
      },
      "outputs": [
        {
          "output_type": "stream",
          "name": "stderr",
          "text": [
            "WARNING:datasets.fingerprint:Parameter 'function'=<function Dataset.map.<locals>.decorate.<locals>.decorated at 0x7fdee8d0baf0> of the transform datasets.arrow_dataset.Dataset._map_single couldn't be hashed properly, a random hash was used instead. Make sure your transforms and parameters are serializable with pickle or dill for the dataset fingerprinting and caching to work. If you reuse this transform, the caching mechanism will consider it to be different from the previous calls and recompute everything. This warning is only showed once. Subsequent hashing failures won't be showed.\n"
          ]
        },
        {
          "output_type": "display_data",
          "data": {
            "text/plain": [
              "  0%|          | 0/2000 [00:00<?, ?ex/s]"
            ],
            "application/vnd.jupyter.widget-view+json": {
              "version_major": 2,
              "version_minor": 0,
              "model_id": "470744ecadfe4216957d071426387a23"
            }
          },
          "metadata": {}
        },
        {
          "output_type": "stream",
          "name": "stdout",
          "text": [
            "Fasttext done\n"
          ]
        }
      ],
      "source": [
        "# Could be improved by allowing multiprocessing with map (currently doesn't work)\n",
        "dataset_language = dataset.map(\n",
        "    func_dataset_modifying_documents, num_proc=1\n",
        ")  # num_proc=cpu_count()\n",
        "print(\"Fasttext done\")"
      ]
    },
    {
      "cell_type": "code",
      "execution_count": 22,
      "metadata": {
        "colab": {
          "base_uri": "https://localhost:8080/"
        },
        "id": "12k8eLLjptjA",
        "outputId": "93c8c996-b1d6-4114-c23d-fc166d435614"
      },
      "outputs": [
        {
          "output_type": "execute_result",
          "data": {
            "text/plain": [
              "Dataset({\n",
              "    features: ['text', 'nl_text', 'nl_size', 'nl_language', 'nl_language_score'],\n",
              "    num_rows: 2000\n",
              "})"
            ]
          },
          "metadata": {},
          "execution_count": 22
        }
      ],
      "source": [
        "dataset_language"
      ]
    },
    {
      "cell_type": "code",
      "execution_count": 23,
      "metadata": {
        "colab": {
          "base_uri": "https://localhost:8080/"
        },
        "id": "LwPqzJvGptjA",
        "outputId": "c5a2fdaf-8e95-42db-848c-ea911a523025"
      },
      "outputs": [
        {
          "output_type": "stream",
          "name": "stdout",
          "text": [
            "percentage of non english detected languages 4.05%\n"
          ]
        }
      ],
      "source": [
        "ratio = sum([1 if dataset_language[\"nl_language\"][i] != \"en\" else 0 for i in range(len(dataset))])/len(dataset)\n",
        "print(f\"percentage of non english detected languages {ratio*100}%\")"
      ]
    },
    {
      "cell_type": "code",
      "execution_count": 24,
      "metadata": {
        "colab": {
          "base_uri": "https://localhost:8080/"
        },
        "id": "JFmqTDzwptjA",
        "outputId": "0ac1789e-0407-4d60-dc76-a5ee4c6df566"
      },
      "outputs": [
        {
          "output_type": "stream",
          "name": "stdout",
          "text": [
            "51\n",
            "68\n",
            "91\n",
            "177\n",
            "181\n",
            "184\n"
          ]
        }
      ],
      "source": [
        "#languages that are'n english in the first 200 samples = 8%\n",
        "L = []\n",
        "for i in range(200):\n",
        "    if dataset_language[\"nl_language\"][i] != \"en\":\n",
        "        L.append(i)\n",
        "        print(i)"
      ]
    },
    {
      "cell_type": "markdown",
      "metadata": {
        "id": "peCFdDzmptjA"
      },
      "source": [
        "### successful detections"
      ]
    },
    {
      "cell_type": "code",
      "execution_count": 25,
      "metadata": {
        "colab": {
          "base_uri": "https://localhost:8080/"
        },
        "id": "sdUGmJQAptjA",
        "outputId": "a86edba6-7091-467b-bd52-366b4529d00b"
      },
      "outputs": [
        {
          "output_type": "stream",
          "name": "stdout",
          "text": [
            "en\n",
            "0.2168474644422531\n",
            "SyntaxError: Use of const in strict mode.Command: ` $ wat css animation `\r\n",
            "Path: `/node_modules/wat/bin/index.js:5`\r\n",
            "Error:\r\n",
            "````js\r\n",
            "const uh = require(\"./../\");\r\n",
            "^^^^^\r\n",
            "SyntaxError: Use of const in strict mode.\r\n",
            "    at exports.runInThisContext (vm.js:73:16)\r\n",
            "    at Module._compile (module.js:443:25)\r\n",
            "    at Object.Module._extensions..js (module.js:478:10)\r\n",
            "    at Module.load (module.js:355:32)\r\n",
            "    at Function.Module._load (module.js:310:12)\r\n",
            "    at Function.Module.runMain (module.js:501:10)\r\n",
            "    at startup (node.js:129:16)\r\n",
            "    at node.js:814:3\r\n",
            "````\r\n",
            "Node version: `v0.12.6`\n"
          ]
        }
      ],
      "source": [
        "print(dataset_language[\"nl_language\"][23])\n",
        "print(dataset_language[\"nl_language_score\"][23])\n",
        "print(dataset_language[\"nl_text\"][23])"
      ]
    },
    {
      "cell_type": "code",
      "execution_count": 26,
      "metadata": {
        "colab": {
          "base_uri": "https://localhost:8080/"
        },
        "id": "LG2mlPPkptjA",
        "outputId": "4fef3f3e-4cb5-4c51-c206-cf5be6d1059e"
      },
      "outputs": [
        {
          "output_type": "stream",
          "name": "stdout",
          "text": [
            "en\n",
            "0.8968048691749573\n",
            "Content goes off the page (and prevents scrollbars?)Bug report by email.  I can't repro this on my browsers but there's a screenshot attached.\r\n",
            "\r\n",
            "> Haven't managed to reproduce the FF\r\n",
            "display issues again, but here is an example of the \"no scrollbars\"\r\n",
            "problem in Chrome (well, Chromium, really). It's all the more annoying\r\n",
            "since the arrows are hijacked by the page. With FF + Vimperator, it is\r\n",
            "possible to scroll with 'J/K' and see the rest of the text.\r\n",
            "\r\n",
            "![chromium_presentation_issue](https://cloud.githubusercontent.com/assets/121855/5518441/3b898940-8920-11e4-901d-7a7136f49534.png)\r\n",
            "\n"
          ]
        }
      ],
      "source": [
        "print(dataset_language[\"nl_language\"][52])\n",
        "print(dataset_language[\"nl_language_score\"][52])\n",
        "print(dataset_language[\"nl_text\"][52])"
      ]
    },
    {
      "cell_type": "code",
      "execution_count": 27,
      "metadata": {
        "colab": {
          "base_uri": "https://localhost:8080/"
        },
        "id": "o2aTrNq_ptjA",
        "outputId": "2d9a37be-cb53-4fef-f2c8-171cf812a3b7"
      },
      "outputs": [
        {
          "output_type": "stream",
          "name": "stdout",
          "text": [
            "en\n",
            "0.5903511643409729\n",
            "Adds itemSetIdentifier to Item.hs and changeIdentifier to Compiler.hs.Hello @jaspervdj and contributors. :)\r\n",
            "\r\n",
            "This change allows one to change/set the identifier of an Item.\r\n",
            "\r\n",
            "Use case:\r\n",
            "\r\n",
            "Say someone wants to show their most recent post on the home page in its entirety.\r\n",
            "\r\n",
            "```haskell\r\n",
            "-- /site.hs\r\n",
            "-- ...\r\n",
            "  create [\"index.html\"] $ do\r\n",
            "    route idRoute\r\n",
            "    compile $ do\r\n",
            "      post <- fmap head . recentFirst =<< loadAllSnapshots \"posts/*\" \"content\"\r\n",
            "      loadAndApplyTemplate \"templates/default.html\" postCtx post\r\n",
            "        >>= relativizeUrls\r\n",
            "        >>= changeIdentifier \"index.html\"\r\n",
            "-- ...\r\n",
            "```\r\n",
            "```html\r\n",
            "<!-- \"templates/default.html\" -->\r\n",
            "<html>\r\n",
            "  <head>\r\n",
            "    <meta property=\"og:url\" content=\"$url$\">\r\n",
            "    <title>$title$</title>\r\n",
            "  </head>\r\n",
            "  <body>\r\n",
            "    $date$\r\n",
            "    $body\r\n",
            "  </body>\r\n",
            "</html>\r\n",
            "```\r\n",
            "\r\n",
            "This will allow them to create or match a page with a different identifier than the one they wish to load. In this example they are loading say Identifier `posts/yyyy-mm-dd-my-recent-post.markdown` but they output the Identifier `index.html`. \r\n",
            "\r\n",
            "You can see it in use here https://lettier.github.io rendered and the [source code](https://github.com/lettier/lettier.github.io/blob/hakyll/site.hs#L51). \r\n",
            "\r\n",
            "Thanks!\r\n",
            "\n"
          ]
        }
      ],
      "source": [
        "print(dataset_language[\"nl_language\"][75])\n",
        "print(dataset_language[\"nl_language_score\"][75])\n",
        "print(dataset_language[\"nl_text\"][75])"
      ]
    },
    {
      "cell_type": "code",
      "execution_count": 28,
      "metadata": {
        "colab": {
          "base_uri": "https://localhost:8080/"
        },
        "id": "B54a5wliptjA",
        "outputId": "7e87b370-34f1-476b-be01-62bf0a5a9614"
      },
      "outputs": [
        {
          "output_type": "stream",
          "name": "stdout",
          "text": [
            "en\n",
            "0.7570561170578003\n",
            "remove MACOS folder from the zip-file of MARA download\n"
          ]
        }
      ],
      "source": [
        "print(dataset_language[\"nl_language\"][77])\n",
        "print(dataset_language[\"nl_language_score\"][77])\n",
        "print(dataset_language[\"nl_text\"][77])"
      ]
    },
    {
      "cell_type": "code",
      "execution_count": 29,
      "metadata": {
        "colab": {
          "base_uri": "https://localhost:8080/"
        },
        "id": "B2xp_9V_ptjB",
        "outputId": "cb1e9301-7cfb-434d-836b-bd9f9b84394f"
      },
      "outputs": [
        {
          "output_type": "stream",
          "name": "stdout",
          "text": [
            "en\n",
            "0.968618631362915\n",
            "In /contributors checkUnsure why at yesterday's event someone was getting an error, so look back into this logic. \n"
          ]
        }
      ],
      "source": [
        "print(dataset_language[\"nl_language\"][138])\n",
        "print(dataset_language[\"nl_language_score\"][138])\n",
        "print(dataset_language[\"nl_text\"][138])"
      ]
    },
    {
      "cell_type": "code",
      "execution_count": 30,
      "metadata": {
        "colab": {
          "base_uri": "https://localhost:8080/"
        },
        "id": "JPeNy4uTptjB",
        "outputId": "2d6cbc33-884e-4a01-a681-2cf68d401c4b"
      },
      "outputs": [
        {
          "output_type": "stream",
          "name": "stdout",
          "text": [
            "en\n",
            "0.5260642170906067\n",
            "Proposing Animate componentThis will allow components to transition in & out.\r\n",
            "\r\n",
            "![animate component](https://cloud.githubusercontent.com/assets/3210082/16730986/876e95d4-4711-11e6-8429-81f7643e7c0d.gif)\r\n",
            "\n"
          ]
        }
      ],
      "source": [
        "print(dataset_language[\"nl_language\"][143])\n",
        "print(dataset_language[\"nl_language_score\"][143])\n",
        "print(dataset_language[\"nl_text\"][143])"
      ]
    },
    {
      "cell_type": "markdown",
      "metadata": {
        "id": "xLiSQZm3ptjB"
      },
      "source": [
        "### failures:"
      ]
    },
    {
      "cell_type": "code",
      "execution_count": 31,
      "metadata": {
        "colab": {
          "base_uri": "https://localhost:8080/"
        },
        "id": "YG2HZx3gptjB",
        "outputId": "a4c1856c-f105-428e-912d-4e3848ced61a"
      },
      "outputs": [
        {
          "output_type": "stream",
          "name": "stdout",
          "text": [
            "en\n",
            "0.43210530281066895\n",
            "Implement copy method for transfer managercc @jamesls @JordonPhillips \n",
            "\n",
            "\n",
            "en\n",
            "0.4001844823360443\n",
            "java 8 javadoc linthttp://stackoverflow.com/questions/15886209/maven-is-not-working-in-java-8-when-javadoc-tags-are-incomplete\r\n",
            "\r\n",
            "            <configuration>\r\n",
            "                <additionalparam>-Xdoclint:none</additionalparam>\r\n",
            "            </configuration>\r\n",
            "\r\n",
            "under java 8 profile\n",
            "\n",
            "\n",
            "en\n",
            "0.5154730677604675\n",
            "Update en_US.langThe line 'achievement.alchemicalwizardy:firstPrick!' turns out to be 'achievement.alchemicalwizardy:achievment.firstPrick'\r\n",
            "Sorry for not seeing the error before.\n",
            "\n",
            "\n",
            "en\n",
            "0.8865142464637756\n",
            "How to configure swagger-ui.html prefix url to accessI tried to rewrite the place where browser can view the swagger-ui.html.\r\n",
            "\r\n",
            "It is needed because our loadbalancer is configured on special prefix in url,\r\n",
            "but I did not suceed to rewrite or configure it.\r\n",
            "\r\n",
            "Any idea?\n"
          ]
        }
      ],
      "source": [
        "print(dataset_language[\"nl_language\"][79])\n",
        "print(dataset_language[\"nl_language_score\"][79])\n",
        "print(dataset_language[\"nl_text\"][79])\n",
        "print(\"\\n\")\n",
        "print(dataset_language[\"nl_language\"][11])\n",
        "print(dataset_language[\"nl_language_score\"][11])\n",
        "print(dataset_language[\"nl_text\"][11])\n",
        "print(\"\\n\")\n",
        "print(dataset_language[\"nl_language\"][110])\n",
        "print(dataset_language[\"nl_language_score\"][110])\n",
        "print(dataset_language[\"nl_text\"][110])\n",
        "print(\"\\n\")\n",
        "print(dataset_language[\"nl_language\"][139])\n",
        "print(dataset_language[\"nl_language_score\"][139])\n",
        "print(dataset_language[\"nl_text\"][139])"
      ]
    },
    {
      "cell_type": "code",
      "execution_count": 32,
      "metadata": {
        "colab": {
          "base_uri": "https://localhost:8080/",
          "height": 407
        },
        "id": "qrPZq3vTptjB",
        "outputId": "a739d66c-36a4-46d6-92ef-e51c67cb2078"
      },
      "outputs": [
        {
          "output_type": "execute_result",
          "data": {
            "text/plain": [
              "Text(0.5, 1.0, 'distribution of the size of issues titles+comments (on a 2k subset)')"
            ]
          },
          "metadata": {},
          "execution_count": 32
        },
        {
          "output_type": "display_data",
          "data": {
            "text/plain": [
              "<Figure size 648x432 with 1 Axes>"
            ],
            "image/png": "[encoded data removed]"
          },
          "metadata": {
            "needs_background": "light"
          }
        }
      ],
      "source": [
        "#distribution of langauges\n",
        "\n",
        "from matplotlib import pyplot as plt\n",
        "import numpy as np\n",
        "\n",
        "plt.figure(figsize=(9,6))\n",
        "plt.hist(dataset['nl_size'], bins=np.linspace(0, 10_000, 200), alpha=0.4, label=\"length \")\n",
        "plt.legend(prop ={'size': 10})\n",
        "#truncated distribution\n",
        "plt.title(\"distribution of the size of issues titles+comments (on a 2k subset)\")"
      ]
    },
    {
      "cell_type": "code",
      "execution_count": 33,
      "metadata": {
        "colab": {
          "base_uri": "https://localhost:8080/"
        },
        "id": "UhPyQ2A9ptjB",
        "outputId": "308f3c4a-2e96-4912-d52f-c42aa14f4b0d"
      },
      "outputs": [
        {
          "output_type": "execute_result",
          "data": {
            "text/plain": [
              "list"
            ]
          },
          "metadata": {},
          "execution_count": 33
        }
      ],
      "source": [
        "type(dataset_language[\"nl_language\"])"
      ]
    },
    {
      "cell_type": "code",
      "execution_count": 35,
      "metadata": {
        "colab": {
          "base_uri": "https://localhost:8080/",
          "height": 307
        },
        "id": "f_JgCSXRptjB",
        "outputId": "b1dd3583-2b19-4d0b-9bb6-e18cdf24c92e"
      },
      "outputs": [
        {
          "output_type": "execute_result",
          "data": {
            "text/plain": [
              "<matplotlib.axes._subplots.AxesSubplot at 0x7fdee8254100>"
            ]
          },
          "metadata": {},
          "execution_count": 35
        },
        {
          "output_type": "display_data",
          "data": {
            "text/plain": [
              "<Figure size 432x288 with 1 Axes>"
            ],
            "image/png": "[encoded data removed]"
          },
          "metadata": {
            "needs_background": "light"
          }
        }
      ],
      "source": [
        "import pandas\n",
        "from collections import Counter\n",
        "letter_counts = Counter(dataset_language[\"nl_language\"])\n",
        "df = pandas.DataFrame.from_dict(letter_counts, orient='index')\n",
        "df.plot(kind='bar', title=\"NL language distribution in GitHub Issues (2k subset)\")"
      ]
    },
    {
      "cell_type": "code",
      "execution_count": 34,
      "metadata": {
        "id": "5CK8LCd7ptjC"
      },
      "outputs": [],
      "source": []
    }
  ],
  "metadata": {
    "interpreter": {
      "hash": "fd8fde6f83dada9276d12fdb71d773558994168ed1b3bea457b8db38c02aa2e1"
    },
    "kernelspec": {
      "display_name": "Python 3.10.4 ('venv')",
      "language": "python",
      "name": "python3"
    },
    "language_info": {
      "codemirror_mode": {
        "name": "ipython",
        "version": 3
      },
      "file_extension": ".py",
      "mimetype": "text/x-python",
      "name": "python",
      "nbconvert_exporter": "python",
      "pygments_lexer": "ipython3",
      "version": "3.10.4"
    },
    "orig_nbformat": 4,
    "colab": {
      "provenance": []
    },
    "widgets": {
      "application/vnd.jupyter.widget-state+json": {
        "28289e37157f42da8cf8ac19b34fd64c": {
          "model_module": "@jupyter-widgets/controls",
          "model_name": "HBoxModel",
          "model_module_version": "1.5.0",
          "state": {
            "_dom_classes": [],
            "_model_module": "@jupyter-widgets/controls",
            "_model_module_version": "1.5.0",
            "_model_name": "HBoxModel",
            "_view_count": null,
            "_view_module": "@jupyter-widgets/controls",
            "_view_module_version": "1.5.0",
            "_view_name": "HBoxView",
            "box_style": "",
            "children": [
              "IPY_MODEL_869e6ef576d34db4881374b46453e33d",
              "IPY_MODEL_a829fa3f974544549c511c25b9988660",
              "IPY_MODEL_de9ff53ed9694511ba2517f6ebdaf757"
            ],
            "layout": "IPY_MODEL_2191cb8af0ae4a32a987dfe61f9f7ed3"
          }
        },
        "869e6ef576d34db4881374b46453e33d": {
          "model_module": "@jupyter-widgets/controls",
          "model_name": "HTMLModel",
          "model_module_version": "1.5.0",
          "state": {
            "_dom_classes": [],
            "_model_module": "@jupyter-widgets/controls",
            "_model_module_version": "1.5.0",
            "_model_name": "HTMLModel",
            "_view_count": null,
            "_view_module": "@jupyter-widgets/controls",
            "_view_module_version": "1.5.0",
            "_view_name": "HTMLView",
            "description": "",
            "description_tooltip": null,
            "layout": "IPY_MODEL_e4b319fab02b4392bfbfa3187ec75611",
            "placeholder": "​",
            "style": "IPY_MODEL_a4df8900b727411ca4a4aa4b4fc092e0",
            "value": "100%"
          }
        },
        "a829fa3f974544549c511c25b9988660": {
          "model_module": "@jupyter-widgets/controls",
          "model_name": "FloatProgressModel",
          "model_module_version": "1.5.0",
          "state": {
            "_dom_classes": [],
            "_model_module": "@jupyter-widgets/controls",
            "_model_module_version": "1.5.0",
            "_model_name": "FloatProgressModel",
            "_view_count": null,
            "_view_module": "@jupyter-widgets/controls",
            "_view_module_version": "1.5.0",
            "_view_name": "ProgressView",
            "bar_style": "success",
            "description": "",
            "description_tooltip": null,
            "layout": "IPY_MODEL_65d4a53b0ee64edeae99ad5de2b40e24",
            "max": 2000,
            "min": 0,
            "orientation": "horizontal",
            "style": "IPY_MODEL_3e4bb2703e694f3a8bee2e41856b5da0",
            "value": 2000
          }
        },
        "de9ff53ed9694511ba2517f6ebdaf757": {
          "model_module": "@jupyter-widgets/controls",
          "model_name": "HTMLModel",
          "model_module_version": "1.5.0",
          "state": {
            "_dom_classes": [],
            "_model_module": "@jupyter-widgets/controls",
            "_model_module_version": "1.5.0",
            "_model_name": "HTMLModel",
            "_view_count": null,
            "_view_module": "@jupyter-widgets/controls",
            "_view_module_version": "1.5.0",
            "_view_name": "HTMLView",
            "description": "",
            "description_tooltip": null,
            "layout": "IPY_MODEL_b7111f31eb9c4c9b85599c0f17404caf",
            "placeholder": "​",
            "style": "IPY_MODEL_a22df46a829e412380dd18abbf77e117",
            "value": " 2000/2000 [00:00&lt;00:00, 9993.67ex/s]"
          }
        },
        "2191cb8af0ae4a32a987dfe61f9f7ed3": {
          "model_module": "@jupyter-widgets/base",
          "model_name": "LayoutModel",
          "model_module_version": "1.2.0",
          "state": {
            "_model_module": "@jupyter-widgets/base",
            "_model_module_version": "1.2.0",
            "_model_name": "LayoutModel",
            "_view_count": null,
            "_view_module": "@jupyter-widgets/base",
            "_view_module_version": "1.2.0",
            "_view_name": "LayoutView",
            "align_content": null,
            "align_items": null,
            "align_self": null,
            "border": null,
            "bottom": null,
            "display": null,
            "flex": null,
            "flex_flow": null,
            "grid_area": null,
            "grid_auto_columns": null,
            "grid_auto_flow": null,
            "grid_auto_rows": null,
            "grid_column": null,
            "grid_gap": null,
            "grid_row": null,
            "grid_template_areas": null,
            "grid_template_columns": null,
            "grid_template_rows": null,
            "height": null,
            "justify_content": null,
            "justify_items": null,
            "left": null,
            "margin": null,
            "max_height": null,
            "max_width": null,
            "min_height": null,
            "min_width": null,
            "object_fit": null,
            "object_position": null,
            "order": null,
            "overflow": null,
            "overflow_x": null,
            "overflow_y": null,
            "padding": null,
            "right": null,
            "top": null,
            "visibility": null,
            "width": null
          }
        },
        "e4b319fab02b4392bfbfa3187ec75611": {
          "model_module": "@jupyter-widgets/base",
          "model_name": "LayoutModel",
          "model_module_version": "1.2.0",
          "state": {
            "_model_module": "@jupyter-widgets/base",
            "_model_module_version": "1.2.0",
            "_model_name": "LayoutModel",
            "_view_count": null,
            "_view_module": "@jupyter-widgets/base",
            "_view_module_version": "1.2.0",
            "_view_name": "LayoutView",
            "align_content": null,
            "align_items": null,
            "align_self": null,
            "border": null,
            "bottom": null,
            "display": null,
            "flex": null,
            "flex_flow": null,
            "grid_area": null,
            "grid_auto_columns": null,
            "grid_auto_flow": null,
            "grid_auto_rows": null,
            "grid_column": null,
            "grid_gap": null,
            "grid_row": null,
            "grid_template_areas": null,
            "grid_template_columns": null,
            "grid_template_rows": null,
            "height": null,
            "justify_content": null,
            "justify_items": null,
            "left": null,
            "margin": null,
            "max_height": null,
            "max_width": null,
            "min_height": null,
            "min_width": null,
            "object_fit": null,
            "object_position": null,
            "order": null,
            "overflow": null,
            "overflow_x": null,
            "overflow_y": null,
            "padding": null,
            "right": null,
            "top": null,
            "visibility": null,
            "width": null
          }
        },
        "a4df8900b727411ca4a4aa4b4fc092e0": {
          "model_module": "@jupyter-widgets/controls",
          "model_name": "DescriptionStyleModel",
          "model_module_version": "1.5.0",
          "state": {
            "_model_module": "@jupyter-widgets/controls",
            "_model_module_version": "1.5.0",
            "_model_name": "DescriptionStyleModel",
            "_view_count": null,
            "_view_module": "@jupyter-widgets/base",
            "_view_module_version": "1.2.0",
            "_view_name": "StyleView",
            "description_width": ""
          }
        },
        "65d4a53b0ee64edeae99ad5de2b40e24": {
          "model_module": "@jupyter-widgets/base",
          "model_name": "LayoutModel",
          "model_module_version": "1.2.0",
          "state": {
            "_model_module": "@jupyter-widgets/base",
            "_model_module_version": "1.2.0",
            "_model_name": "LayoutModel",
            "_view_count": null,
            "_view_module": "@jupyter-widgets/base",
            "_view_module_version": "1.2.0",
            "_view_name": "LayoutView",
            "align_content": null,
            "align_items": null,
            "align_self": null,
            "border": null,
            "bottom": null,
            "display": null,
            "flex": null,
            "flex_flow": null,
            "grid_area": null,
            "grid_auto_columns": null,
            "grid_auto_flow": null,
            "grid_auto_rows": null,
            "grid_column": null,
            "grid_gap": null,
            "grid_row": null,
            "grid_template_areas": null,
            "grid_template_columns": null,
            "grid_template_rows": null,
            "height": null,
            "justify_content": null,
            "justify_items": null,
            "left": null,
            "margin": null,
            "max_height": null,
            "max_width": null,
            "min_height": null,
            "min_width": null,
            "object_fit": null,
            "object_position": null,
            "order": null,
            "overflow": null,
            "overflow_x": null,
            "overflow_y": null,
            "padding": null,
            "right": null,
            "top": null,
            "visibility": null,
            "width": null
          }
        },
        "3e4bb2703e694f3a8bee2e41856b5da0": {
          "model_module": "@jupyter-widgets/controls",
          "model_name": "ProgressStyleModel",
          "model_module_version": "1.5.0",
          "state": {
            "_model_module": "@jupyter-widgets/controls",
            "_model_module_version": "1.5.0",
            "_model_name": "ProgressStyleModel",
            "_view_count": null,
            "_view_module": "@jupyter-widgets/base",
            "_view_module_version": "1.2.0",
            "_view_name": "StyleView",
            "bar_color": null,
            "description_width": ""
          }
        },
        "b7111f31eb9c4c9b85599c0f17404caf": {
          "model_module": "@jupyter-widgets/base",
          "model_name": "LayoutModel",
          "model_module_version": "1.2.0",
          "state": {
            "_model_module": "@jupyter-widgets/base",
            "_model_module_version": "1.2.0",
            "_model_name": "LayoutModel",
            "_view_count": null,
            "_view_module": "@jupyter-widgets/base",
            "_view_module_version": "1.2.0",
            "_view_name": "LayoutView",
            "align_content": null,
            "align_items": null,
            "align_self": null,
            "border": null,
            "bottom": null,
            "display": null,
            "flex": null,
            "flex_flow": null,
            "grid_area": null,
            "grid_auto_columns": null,
            "grid_auto_flow": null,
            "grid_auto_rows": null,
            "grid_column": null,
            "grid_gap": null,
            "grid_row": null,
            "grid_template_areas": null,
            "grid_template_columns": null,
            "grid_template_rows": null,
            "height": null,
            "justify_content": null,
            "justify_items": null,
            "left": null,
            "margin": null,
            "max_height": null,
            "max_width": null,
            "min_height": null,
            "min_width": null,
            "object_fit": null,
            "object_position": null,
            "order": null,
            "overflow": null,
            "overflow_x": null,
            "overflow_y": null,
            "padding": null,
            "right": null,
            "top": null,
            "visibility": null,
            "width": null
          }
        },
        "a22df46a829e412380dd18abbf77e117": {
          "model_module": "@jupyter-widgets/controls",
          "model_name": "DescriptionStyleModel",
          "model_module_version": "1.5.0",
          "state": {
            "_model_module": "@jupyter-widgets/controls",
            "_model_module_version": "1.5.0",
            "_model_name": "DescriptionStyleModel",
            "_view_count": null,
            "_view_module": "@jupyter-widgets/base",
            "_view_module_version": "1.2.0",
            "_view_name": "StyleView",
            "description_width": ""
          }
        },
        "470744ecadfe4216957d071426387a23": {
          "model_module": "@jupyter-widgets/controls",
          "model_name": "HBoxModel",
          "model_module_version": "1.5.0",
          "state": {
            "_dom_classes": [],
            "_model_module": "@jupyter-widgets/controls",
            "_model_module_version": "1.5.0",
            "_model_name": "HBoxModel",
            "_view_count": null,
            "_view_module": "@jupyter-widgets/controls",
            "_view_module_version": "1.5.0",
            "_view_name": "HBoxView",
            "box_style": "",
            "children": [
              "IPY_MODEL_2d80f42676774029abc65503d9edd2c7",
              "IPY_MODEL_57316778d24745dca20efc7837f552ab",
              "IPY_MODEL_6271e888c8bd474a83a4f58e4350fe95"
            ],
            "layout": "IPY_MODEL_b6418feb65ac4f05bb22af1d7a788ca6"
          }
        },
        "2d80f42676774029abc65503d9edd2c7": {
          "model_module": "@jupyter-widgets/controls",
          "model_name": "HTMLModel",
          "model_module_version": "1.5.0",
          "state": {
            "_dom_classes": [],
            "_model_module": "@jupyter-widgets/controls",
            "_model_module_version": "1.5.0",
            "_model_name": "HTMLModel",
            "_view_count": null,
            "_view_module": "@jupyter-widgets/controls",
            "_view_module_version": "1.5.0",
            "_view_name": "HTMLView",
            "description": "",
            "description_tooltip": null,
            "layout": "IPY_MODEL_aaea87afef8c4d46807b1ed11a1385c6",
            "placeholder": "​",
            "style": "IPY_MODEL_53793e96db234fe793ef7e459cbb58a2",
            "value": "100%"
          }
        },
        "57316778d24745dca20efc7837f552ab": {
          "model_module": "@jupyter-widgets/controls",
          "model_name": "FloatProgressModel",
          "model_module_version": "1.5.0",
          "state": {
            "_dom_classes": [],
            "_model_module": "@jupyter-widgets/controls",
            "_model_module_version": "1.5.0",
            "_model_name": "FloatProgressModel",
            "_view_count": null,
            "_view_module": "@jupyter-widgets/controls",
            "_view_module_version": "1.5.0",
            "_view_name": "ProgressView",
            "bar_style": "success",
            "description": "",
            "description_tooltip": null,
            "layout": "IPY_MODEL_6763f5d4c8cc40d5b94c05d9d57e7cc0",
            "max": 2000,
            "min": 0,
            "orientation": "horizontal",
            "style": "IPY_MODEL_93ce84f7a8644a3689b99c34486e7a8c",
            "value": 2000
          }
        },
        "6271e888c8bd474a83a4f58e4350fe95": {
          "model_module": "@jupyter-widgets/controls",
          "model_name": "HTMLModel",
          "model_module_version": "1.5.0",
          "state": {
            "_dom_classes": [],
            "_model_module": "@jupyter-widgets/controls",
            "_model_module_version": "1.5.0",
            "_model_name": "HTMLModel",
            "_view_count": null,
            "_view_module": "@jupyter-widgets/controls",
            "_view_module_version": "1.5.0",
            "_view_name": "HTMLView",
            "description": "",
            "description_tooltip": null,
            "layout": "IPY_MODEL_45ea4fd6a07948ba8e9030bbe23ed0fe",
            "placeholder": "​",
            "style": "IPY_MODEL_be9beb5dd2cf492ea43685a9807d1616",
            "value": " 2000/2000 [00:01&lt;00:00, 1345.55ex/s]"
          }
        },
        "b6418feb65ac4f05bb22af1d7a788ca6": {
          "model_module": "@jupyter-widgets/base",
          "model_name": "LayoutModel",
          "model_module_version": "1.2.0",
          "state": {
            "_model_module": "@jupyter-widgets/base",
            "_model_module_version": "1.2.0",
            "_model_name": "LayoutModel",
            "_view_count": null,
            "_view_module": "@jupyter-widgets/base",
            "_view_module_version": "1.2.0",
            "_view_name": "LayoutView",
            "align_content": null,
            "align_items": null,
            "align_self": null,
            "border": null,
            "bottom": null,
            "display": null,
            "flex": null,
            "flex_flow": null,
            "grid_area": null,
            "grid_auto_columns": null,
            "grid_auto_flow": null,
            "grid_auto_rows": null,
            "grid_column": null,
            "grid_gap": null,
            "grid_row": null,
            "grid_template_areas": null,
            "grid_template_columns": null,
            "grid_template_rows": null,
            "height": null,
            "justify_content": null,
            "justify_items": null,
            "left": null,
            "margin": null,
            "max_height": null,
            "max_width": null,
            "min_height": null,
            "min_width": null,
            "object_fit": null,
            "object_position": null,
            "order": null,
            "overflow": null,
            "overflow_x": null,
            "overflow_y": null,
            "padding": null,
            "right": null,
            "top": null,
            "visibility": null,
            "width": null
          }
        },
        "aaea87afef8c4d46807b1ed11a1385c6": {
          "model_module": "@jupyter-widgets/base",
          "model_name": "LayoutModel",
          "model_module_version": "1.2.0",
          "state": {
            "_model_module": "@jupyter-widgets/base",
            "_model_module_version": "1.2.0",
            "_model_name": "LayoutModel",
            "_view_count": null,
            "_view_module": "@jupyter-widgets/base",
            "_view_module_version": "1.2.0",
            "_view_name": "LayoutView",
            "align_content": null,
            "align_items": null,
            "align_self": null,
            "border": null,
            "bottom": null,
            "display": null,
            "flex": null,
            "flex_flow": null,
            "grid_area": null,
            "grid_auto_columns": null,
            "grid_auto_flow": null,
            "grid_auto_rows": null,
            "grid_column": null,
            "grid_gap": null,
            "grid_row": null,
            "grid_template_areas": null,
            "grid_template_columns": null,
            "grid_template_rows": null,
            "height": null,
            "justify_content": null,
            "justify_items": null,
            "left": null,
            "margin": null,
            "max_height": null,
            "max_width": null,
            "min_height": null,
            "min_width": null,
            "object_fit": null,
            "object_position": null,
            "order": null,
            "overflow": null,
            "overflow_x": null,
            "overflow_y": null,
            "padding": null,
            "right": null,
            "top": null,
            "visibility": null,
            "width": null
          }
        },
        "53793e96db234fe793ef7e459cbb58a2": {
          "model_module": "@jupyter-widgets/controls",
          "model_name": "DescriptionStyleModel",
          "model_module_version": "1.5.0",
          "state": {
            "_model_module": "@jupyter-widgets/controls",
            "_model_module_version": "1.5.0",
            "_model_name": "DescriptionStyleModel",
            "_view_count": null,
            "_view_module": "@jupyter-widgets/base",
            "_view_module_version": "1.2.0",
            "_view_name": "StyleView",
            "description_width": ""
          }
        },
        "6763f5d4c8cc40d5b94c05d9d57e7cc0": {
          "model_module": "@jupyter-widgets/base",
          "model_name": "LayoutModel",
          "model_module_version": "1.2.0",
          "state": {
            "_model_module": "@jupyter-widgets/base",
            "_model_module_version": "1.2.0",
            "_model_name": "LayoutModel",
            "_view_count": null,
            "_view_module": "@jupyter-widgets/base",
            "_view_module_version": "1.2.0",
            "_view_name": "LayoutView",
            "align_content": null,
            "align_items": null,
            "align_self": null,
            "border": null,
            "bottom": null,
            "display": null,
            "flex": null,
            "flex_flow": null,
            "grid_area": null,
            "grid_auto_columns": null,
            "grid_auto_flow": null,
            "grid_auto_rows": null,
            "grid_column": null,
            "grid_gap": null,
            "grid_row": null,
            "grid_template_areas": null,
            "grid_template_columns": null,
            "grid_template_rows": null,
            "height": null,
            "justify_content": null,
            "justify_items": null,
            "left": null,
            "margin": null,
            "max_height": null,
            "max_width": null,
            "min_height": null,
            "min_width": null,
            "object_fit": null,
            "object_position": null,
            "order": null,
            "overflow": null,
            "overflow_x": null,
            "overflow_y": null,
            "padding": null,
            "right": null,
            "top": null,
            "visibility": null,
            "width": null
          }
        },
        "93ce84f7a8644a3689b99c34486e7a8c": {
          "model_module": "@jupyter-widgets/controls",
          "model_name": "ProgressStyleModel",
          "model_module_version": "1.5.0",
          "state": {
            "_model_module": "@jupyter-widgets/controls",
            "_model_module_version": "1.5.0",
            "_model_name": "ProgressStyleModel",
            "_view_count": null,
            "_view_module": "@jupyter-widgets/base",
            "_view_module_version": "1.2.0",
            "_view_name": "StyleView",
            "bar_color": null,
            "description_width": ""
          }
        },
        "45ea4fd6a07948ba8e9030bbe23ed0fe": {
          "model_module": "@jupyter-widgets/base",
          "model_name": "LayoutModel",
          "model_module_version": "1.2.0",
          "state": {
            "_model_module": "@jupyter-widgets/base",
            "_model_module_version": "1.2.0",
            "_model_name": "LayoutModel",
            "_view_count": null,
            "_view_module": "@jupyter-widgets/base",
            "_view_module_version": "1.2.0",
            "_view_name": "LayoutView",
            "align_content": null,
            "align_items": null,
            "align_self": null,
            "border": null,
            "bottom": null,
            "display": null,
            "flex": null,
            "flex_flow": null,
            "grid_area": null,
            "grid_auto_columns": null,
            "grid_auto_flow": null,
            "grid_auto_rows": null,
            "grid_column": null,
            "grid_gap": null,
            "grid_row": null,
            "grid_template_areas": null,
            "grid_template_columns": null,
            "grid_template_rows": null,
            "height": null,
            "justify_content": null,
            "justify_items": null,
            "left": null,
            "margin": null,
            "max_height": null,
            "max_width": null,
            "min_height": null,
            "min_width": null,
            "object_fit": null,
            "object_position": null,
            "order": null,
            "overflow": null,
            "overflow_x": null,
            "overflow_y": null,
            "padding": null,
            "right": null,
            "top": null,
            "visibility": null,
            "width": null
          }
        },
        "be9beb5dd2cf492ea43685a9807d1616": {
          "model_module": "@jupyter-widgets/controls",
          "model_name": "DescriptionStyleModel",
          "model_module_version": "1.5.0",
          "state": {
            "_model_module": "@jupyter-widgets/controls",
            "_model_module_version": "1.5.0",
            "_model_name": "DescriptionStyleModel",
            "_view_count": null,
            "_view_module": "@jupyter-widgets/base",
            "_view_module_version": "1.2.0",
            "_view_name": "StyleView",
            "description_width": ""
          }
        }
      }
    }
  },
  "nbformat": 4,
  "nbformat_minor": 0
}