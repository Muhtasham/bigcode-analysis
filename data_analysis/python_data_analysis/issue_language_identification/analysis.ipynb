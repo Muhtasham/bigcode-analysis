{
  "cells": [
    {
      "cell_type": "markdown",
      "metadata": {
        "id": "gYVMbT80pti0"
      },
      "source": [
        "# Analysis of natural language in Github issues"
      ]
    },
    {
      "cell_type": "markdown",
      "metadata": {
        "id": "BgOxysZCpti8"
      },
      "source": [
        "### Language identification\n",
        "\n",
        "We analyze a 2,000 subset of bigcode data."
      ]
    },
    {
      "cell_type": "code",
      "execution_count": 174,
      "metadata": {
        "colab": {
          "base_uri": "https://localhost:8080/"
        },
        "id": "b8D6fAg1pti8",
        "outputId": "85e6c6c4-dc8f-4ae6-fe8c-0e100b97a397"
      },
      "outputs": [
        {
          "name": "stderr",
          "output_type": "stream",
          "text": [
            "WARNING:datasets.builder:Using custom data configuration bigcode--subset-github-issues-64ef5cdc6c7e0107\n",
            "WARNING:datasets.builder:Reusing dataset json (/root/.cache/huggingface/datasets/bigcode___json/bigcode--subset-github-issues-64ef5cdc6c7e0107/0.0.0/a3e658c4731e59120d44081ac10bf85dc7e1388126b92338344ce9661907f253)\n"
          ]
        }
      ],
      "source": [
        "from datasets import load_dataset\n",
        "\n",
        "ds = load_dataset(\"bigcode/subset-github-issues\", split=\"train\", use_auth_token=True)"
      ]
    },
    {
      "cell_type": "code",
      "execution_count": 175,
      "metadata": {
        "colab": {
          "base_uri": "https://localhost:8080/"
        },
        "id": "Y_ZL7YcLrztD",
        "outputId": "762f0020-fd00-4609-937d-d5ba3525c52f"
      },
      "outputs": [
        {
          "data": {
            "text/plain": [
              "{'repo': 'justarrived/justarrived.github.io',\n",
              " 'org': 'justarrived',\n",
              " 'issue_id': 183724936,\n",
              " 'issue_number': 80,\n",
              " 'pull_request': None,\n",
              " 'events': [{'action': 'opened',\n",
              "   'author': 'tikkat',\n",
              "   'comment': None,\n",
              "   'comment_id': None,\n",
              "   'datetime': 1476805329000,\n",
              "   'description': '',\n",
              "   'title': 'Mobile header with hamburger menu dropdown',\n",
              "   'type': 'issue'},\n",
              "  {'action': 'closed',\n",
              "   'author': 'tikkat',\n",
              "   'comment': None,\n",
              "   'comment_id': None,\n",
              "   'datetime': 1476994993000,\n",
              "   'description': None,\n",
              "   'title': None,\n",
              "   'type': 'issue'}]}"
            ]
          },
          "execution_count": 175,
          "metadata": {},
          "output_type": "execute_result"
        }
      ],
      "source": [
        "ds[0]"
      ]
    },
    {
      "cell_type": "code",
      "execution_count": 176,
      "metadata": {
        "id": "1kbz7gKTrr_p"
      },
      "outputs": [],
      "source": [
        "# remove columns that are not needed\n",
        "ds = ds.remove_columns(['repo', 'org', 'issue_id', 'issue_number', 'pull_request'])"
      ]
    },
    {
      "cell_type": "code",
      "execution_count": 177,
      "metadata": {
        "colab": {
          "base_uri": "https://localhost:8080/"
        },
        "id": "phDUWvZErxDU",
        "outputId": "d79187d5-e589-4921-dd4e-1552e769b3c4"
      },
      "outputs": [
        {
          "name": "stderr",
          "output_type": "stream",
          "text": [
            "WARNING:datasets.arrow_dataset:Loading cached processed dataset at /root/.cache/huggingface/datasets/bigcode___json/bigcode--subset-github-issues-64ef5cdc6c7e0107/0.0.0/a3e658c4731e59120d44081ac10bf85dc7e1388126b92338344ce9661907f253/cache-42236ea2cd473c96.arrow\n",
            "WARNING:datasets.arrow_dataset:Loading cached processed dataset at /root/.cache/huggingface/datasets/bigcode___json/bigcode--subset-github-issues-64ef5cdc6c7e0107/0.0.0/a3e658c4731e59120d44081ac10bf85dc7e1388126b92338344ce9661907f253/cache-4c8112cad4aa0df3.arrow\n"
          ]
        }
      ],
      "source": [
        "#for description and title extract inside events, create a new column called text and concatenate title and description if they are both not None\n",
        "ds = ds.map(lambda x: {'text': [e['title'] + e['description'] for e in x['events'] if e['title'] is not None and e['description'] is not None]})\n",
        "#now convert the list of strings to a single string and remove the list\n",
        "ds = ds.map(lambda x: {'text': ' '.join(x['text'])})"
      ]
    },
    {
      "cell_type": "code",
      "execution_count": 178,
      "metadata": {
        "id": "rXMVSVRJr4So"
      },
      "outputs": [],
      "source": [
        "ds = ds.remove_columns(['events'])"
      ]
    },
    {
      "cell_type": "code",
      "execution_count": 179,
      "metadata": {
        "colab": {
          "base_uri": "https://localhost:8080/",
          "height": 35
        },
        "id": "9qC1F7tir_1s",
        "outputId": "c9f852d0-06b8-4f4c-b680-4abe688a0015"
      },
      "outputs": [
        {
          "data": {
            "application/vnd.google.colaboratory.intrinsic+json": {
              "type": "string"
            },
            "text/plain": [
              "'Mobile header with hamburger menu dropdown'"
            ]
          },
          "execution_count": 179,
          "metadata": {},
          "output_type": "execute_result"
        }
      ],
      "source": [
        "ds[0]['text']"
      ]
    },
    {
      "cell_type": "code",
      "execution_count": 182,
      "metadata": {
        "id": "5HhOCokcsJ3x"
      },
      "outputs": [],
      "source": [
        "from language_identifier import extract_nl_text, FunctionDatasetModifyingDocuments"
      ]
    },
    {
      "cell_type": "code",
      "execution_count": 183,
      "metadata": {
        "colab": {
          "base_uri": "https://localhost:8080/",
          "height": 49,
          "referenced_widgets": [
            "7de5116be628486099e61a8e1f6d7749",
            "dc1a7f982bbe42259784f7be78a7addc",
            "fc14bd6a990548d4a7b1355d123ec3b8",
            "2fb33fe1e5604a84a9528e7b9dce2e14",
            "e77f58df6e5d40248c97c7c24f98efb3",
            "a6a4c77ec8274ca2bbe63b07ceefcbae",
            "d802d56b1df444dea7ea0f84c5a20704",
            "5823c0a00a8442fbadd2cb5dae244149",
            "c4a8283a184b4d62946e3fe889113628",
            "f64f89c08e5e4495b9116f475e2c60e8",
            "8c415d45dc944a5b9c25694d105af49b"
          ]
        },
        "id": "icHtJZnopti9",
        "outputId": "db6c86f3-42aa-4372-b803-014d1aae0ab4"
      },
      "outputs": [
        {
          "data": {
            "application/vnd.jupyter.widget-view+json": {
              "model_id": "7de5116be628486099e61a8e1f6d7749",
              "version_major": 2,
              "version_minor": 0
            },
            "text/plain": [
              "  0%|          | 0/2000 [00:00<?, ?ex/s]"
            ]
          },
          "metadata": {},
          "output_type": "display_data"
        }
      ],
      "source": [
        "dataset = ds.select([i for i in range(2000)])\n",
        "# extraction of NL\n",
        "dataset = dataset.map(extract_nl_text)"
      ]
    },
    {
      "cell_type": "markdown",
      "metadata": {
        "id": "EvWl3MlZpti-"
      },
      "source": [
        "Two new columns in the dataset: nl_text with a string where the extracted dosctrings and comments are concatenated, nl_size: size of nl_text"
      ]
    },
    {
      "cell_type": "code",
      "execution_count": 184,
      "metadata": {
        "colab": {
          "base_uri": "https://localhost:8080/"
        },
        "id": "uMjOuyL8pti-",
        "outputId": "db2e5d5c-f605-46d5-c58d-2a382aecaf1d"
      },
      "outputs": [
        {
          "data": {
            "text/plain": [
              "Dataset({\n",
              "    features: ['text', 'nl_text', 'nl_size'],\n",
              "    num_rows: 2000\n",
              "})"
            ]
          },
          "execution_count": 184,
          "metadata": {},
          "output_type": "execute_result"
        }
      ],
      "source": [
        "dataset"
      ]
    },
    {
      "cell_type": "code",
      "execution_count": 185,
      "metadata": {
        "colab": {
          "base_uri": "https://localhost:8080/",
          "height": 407
        },
        "id": "MNFTkA5Rpti-",
        "outputId": "9100c9d8-112e-4f52-8c35-d648a295306b"
      },
      "outputs": [
        {
          "data": {
            "text/plain": [
              "Text(0.5, 1.0, 'distribution of the size of issues titles+comments (on a 2k subset)')"
            ]
          },
          "execution_count": 185,
          "metadata": {},
          "output_type": "execute_result"
        },
        {
          "data": {
            "image/png": "[encoded data removed]",
            "text/plain": [
              "<Figure size 648x432 with 1 Axes>"
            ]
          },
          "metadata": {
            "needs_background": "light"
          },
          "output_type": "display_data"
        }
      ],
      "source": [
        "from matplotlib import pyplot as plt\n",
        "import numpy as np\n",
        "\n",
        "plt.figure(figsize=(9,6))\n",
        "plt.hist(dataset['nl_size'], bins=np.linspace(0, 10_000, 200), alpha=0.4, label=\"length \")\n",
        "plt.legend(prop ={'size': 10})\n",
        "#truncated distribution\n",
        "plt.title(\"distribution of the size of issues titles+comments (on a 2k subset)\")"
      ]
    },
    {
      "cell_type": "markdown",
      "metadata": {
        "id": "VXC9TXM3pti-"
      },
      "source": [
        "Now let's identify languages"
      ]
    },
    {
      "cell_type": "code",
      "execution_count": 186,
      "metadata": {
        "colab": {
          "base_uri": "https://localhost:8080/"
        },
        "id": "duZzThu5pti-",
        "outputId": "43b14c54-b207-45f2-de10-8f4f94aea694"
      },
      "outputs": [
        {
          "name": "stderr",
          "output_type": "stream",
          "text": [
            "Warning : `load_model` does not return WordVectorModel or SupervisedModel any more, but a `FastText` object which is very similar.\n"
          ]
        }
      ],
      "source": [
        "path_fasttext_model = \"fasttext_model/lid.176.bin\"\n",
        "func_dataset_modifying_documents = FunctionDatasetModifyingDocuments(\n",
        "    path_fasttext_model\n",
        ")"
      ]
    },
    {
      "cell_type": "code",
      "execution_count": 187,
      "metadata": {
        "colab": {
          "base_uri": "https://localhost:8080/",
          "height": 35
        },
        "id": "AfjL9grEpti_",
        "outputId": "1907e5cd-99ad-4f3e-dc7a-328b5d78b0be"
      },
      "outputs": [
        {
          "data": {
            "application/vnd.google.colaboratory.intrinsic+json": {
              "type": "string"
            },
            "text/plain": [
              "'Mobile header with hamburger menu dropdown'"
            ]
          },
          "execution_count": 187,
          "metadata": {},
          "output_type": "execute_result"
        }
      ],
      "source": [
        "dataset[0][\"nl_text\"]"
      ]
    },
    {
      "cell_type": "code",
      "execution_count": 188,
      "metadata": {
        "id": "zD6vcJ2opti_"
      },
      "outputs": [],
      "source": [
        "output = func_dataset_modifying_documents(dataset[0])"
      ]
    },
    {
      "cell_type": "code",
      "execution_count": 189,
      "metadata": {
        "colab": {
          "base_uri": "https://localhost:8080/"
        },
        "id": "8bZC6Nnhpti_",
        "outputId": "4a51b976-d256-4085-a2ab-bcc9f1e5f7fc"
      },
      "outputs": [
        {
          "data": {
            "text/plain": [
              "dict_keys(['text', 'nl_text', 'nl_size', 'nl_language', 'nl_language_score'])"
            ]
          },
          "execution_count": 189,
          "metadata": {},
          "output_type": "execute_result"
        }
      ],
      "source": [
        "output.keys()"
      ]
    },
    {
      "cell_type": "code",
      "execution_count": 190,
      "metadata": {
        "colab": {
          "base_uri": "https://localhost:8080/"
        },
        "id": "34kISG2npti_",
        "outputId": "4ec55471-6c69-46a6-bc7c-f60ecfb44b55"
      },
      "outputs": [
        {
          "name": "stdout",
          "output_type": "stream",
          "text": [
            "detected language id is: en\n",
            "Model prediction score of the language: 0.4267280399799347\n"
          ]
        }
      ],
      "source": [
        "print(f\"detected language id is: {output['nl_language']}\")\n",
        "print(f\"Model prediction score of the language: {output['nl_language_score']}\")"
      ]
    },
    {
      "cell_type": "code",
      "execution_count": 191,
      "metadata": {
        "colab": {
          "base_uri": "https://localhost:8080/"
        },
        "id": "g2K7mI9_pti_",
        "outputId": "6fe702ba-0488-4cf3-ecc2-64c7b48c57b5"
      },
      "outputs": [
        {
          "name": "stdout",
          "output_type": "stream",
          "text": [
            "add HTTP Proxy support to AIOThis PR adds HTTP Proxy support to the AIO installer via Hiera. Relies on the behavior to soucre `/etc/environment`, all supported systems do either natively or via system init scripts.\n"
          ]
        }
      ],
      "source": [
        "print(dataset[4][\"nl_text\"])"
      ]
    },
    {
      "cell_type": "code",
      "execution_count": 192,
      "metadata": {
        "colab": {
          "base_uri": "https://localhost:8080/"
        },
        "id": "Gglm6tZDpti_",
        "outputId": "a4f7cee9-699c-4a60-ba16-aec21db2cea7"
      },
      "outputs": [
        {
          "name": "stdout",
          "output_type": "stream",
          "text": [
            "detected language id is: en\n",
            "Model prediction score of the language: 0.6716512441635132\n"
          ]
        }
      ],
      "source": [
        "output2 = func_dataset_modifying_documents(dataset[4])\n",
        "print(f\"detected language id is: {output2['nl_language']}\")\n",
        "# zh stands for Chinese\n",
        "print(f\"Model prediction score of the language: {output2['nl_language_score']}\")"
      ]
    },
    {
      "cell_type": "code",
      "execution_count": 193,
      "metadata": {
        "colab": {
          "base_uri": "https://localhost:8080/",
          "height": 35
        },
        "id": "Ti1Oddr1pti_",
        "outputId": "2df2c05e-b376-4232-a5c2-4c84c698fde4"
      },
      "outputs": [
        {
          "data": {
            "application/vnd.google.colaboratory.intrinsic+json": {
              "type": "string"
            },
            "text/plain": [
              "'Mobile header with hamburger menu dropdown'"
            ]
          },
          "execution_count": 193,
          "metadata": {},
          "output_type": "execute_result"
        }
      ],
      "source": [
        "dataset[0][\"nl_text\"]"
      ]
    },
    {
      "cell_type": "markdown",
      "metadata": {
        "id": "_F-tGZphpti_"
      },
      "source": [
        "Now let's run language detection on the full 2,000 samples subset"
      ]
    },
    {
      "cell_type": "code",
      "execution_count": 194,
      "metadata": {
        "colab": {
          "base_uri": "https://localhost:8080/",
          "height": 104,
          "referenced_widgets": [
            "2bafe073755c4d9ebf4c9dddf1e38be3",
            "56ee8b5406d244029012fc53e83c43e6",
            "a2d13ab2fdff4e9c9eaebba5f30d0ae5",
            "eb4c7442c99f4ac390b97ce1a46a83da",
            "1b021f6933e241b082f52471cc93effb",
            "23d28c747823422fa15450918b3e68c5",
            "24a38886c81b48c082eec0b75e8c634d",
            "25647945088e43c581c43ec2f068ea06",
            "de811be6b03141fe9ce54ad27ce1a720",
            "a5a33c0b7b034af8815fc4bfc8e1cacc",
            "620cf1ef03a0440d83ce4251253bfcc7"
          ]
        },
        "id": "6jKxyepUptjA",
        "outputId": "933af2ed-0293-423c-ea4f-f7eab64d2c06"
      },
      "outputs": [
        {
          "name": "stderr",
          "output_type": "stream",
          "text": [
            "WARNING:datasets.fingerprint:Parameter 'function'=<function Dataset.map.<locals>.decorate.<locals>.decorated at 0x7fe7e9770550> of the transform datasets.arrow_dataset.Dataset._map_single couldn't be hashed properly, a random hash was used instead. Make sure your transforms and parameters are serializable with pickle or dill for the dataset fingerprinting and caching to work. If you reuse this transform, the caching mechanism will consider it to be different from the previous calls and recompute everything. This warning is only showed once. Subsequent hashing failures won't be showed.\n"
          ]
        },
        {
          "data": {
            "application/vnd.jupyter.widget-view+json": {
              "model_id": "2bafe073755c4d9ebf4c9dddf1e38be3",
              "version_major": 2,
              "version_minor": 0
            },
            "text/plain": [
              "  0%|          | 0/2000 [00:00<?, ?ex/s]"
            ]
          },
          "metadata": {},
          "output_type": "display_data"
        },
        {
          "name": "stdout",
          "output_type": "stream",
          "text": [
            "Fasttext done\n"
          ]
        }
      ],
      "source": [
        "# Could be improved by allowing multiprocessing with map (currently doesn't work)\n",
        "dataset_language = dataset.map(\n",
        "    func_dataset_modifying_documents, num_proc=1\n",
        ")  # num_proc=cpu_count()\n",
        "print(\"Fasttext done\")"
      ]
    },
    {
      "cell_type": "code",
      "execution_count": 195,
      "metadata": {
        "colab": {
          "base_uri": "https://localhost:8080/"
        },
        "id": "12k8eLLjptjA",
        "outputId": "6304fe38-66a6-4190-f63d-600f3bf4ff8e"
      },
      "outputs": [
        {
          "data": {
            "text/plain": [
              "Dataset({\n",
              "    features: ['text', 'nl_text', 'nl_size', 'nl_language', 'nl_language_score'],\n",
              "    num_rows: 2000\n",
              "})"
            ]
          },
          "execution_count": 195,
          "metadata": {},
          "output_type": "execute_result"
        }
      ],
      "source": [
        "dataset_language"
      ]
    },
    {
      "cell_type": "code",
      "execution_count": 196,
      "metadata": {
        "colab": {
          "base_uri": "https://localhost:8080/"
        },
        "id": "LwPqzJvGptjA",
        "outputId": "157d3b62-0c35-455d-f5ad-27bcf0431082"
      },
      "outputs": [
        {
          "name": "stdout",
          "output_type": "stream",
          "text": [
            "percentage of non english detected languages 4.05%\n"
          ]
        }
      ],
      "source": [
        "ratio = sum([1 if dataset_language[\"nl_language\"][i] != \"en\" else 0 for i in range(len(dataset))])/len(dataset)\n",
        "print(f\"percentage of non english detected languages {ratio*100}%\")"
      ]
    },
    {
      "cell_type": "code",
      "execution_count": 197,
      "metadata": {
        "colab": {
          "base_uri": "https://localhost:8080/"
        },
        "id": "JFmqTDzwptjA",
        "outputId": "7fde519b-c1d6-4204-f312-778e8a982cb9"
      },
      "outputs": [
        {
          "name": "stdout",
          "output_type": "stream",
          "text": [
            "51\n",
            "68\n",
            "91\n",
            "177\n",
            "181\n",
            "184\n"
          ]
        }
      ],
      "source": [
        "#languages that are'n english in the first 200 samples = 8%\n",
        "L = []\n",
        "for i in range(200):\n",
        "    if dataset_language[\"nl_language\"][i] != \"en\":\n",
        "        L.append(i)\n",
        "        print(i)"
      ]
    },
    {
      "cell_type": "markdown",
      "metadata": {
        "id": "peCFdDzmptjA"
      },
      "source": [
        "### successful detections"
      ]
    },
    {
      "cell_type": "code",
      "execution_count": 198,
      "metadata": {
        "colab": {
          "base_uri": "https://localhost:8080/"
        },
        "id": "sdUGmJQAptjA",
        "outputId": "27a20481-933e-4d1d-a7f9-7f8760a892d9"
      },
      "outputs": [
        {
          "name": "stdout",
          "output_type": "stream",
          "text": [
            "en\n",
            "0.2168474644422531\n",
            "SyntaxError: Use of const in strict mode.Command: ` $ wat css animation `\r\n",
            "Path: `/node_modules/wat/bin/index.js:5`\r\n",
            "Error:\r\n",
            "````js\r\n",
            "const uh = require(\"./../\");\r\n",
            "^^^^^\r\n",
            "SyntaxError: Use of const in strict mode.\r\n",
            "    at exports.runInThisContext (vm.js:73:16)\r\n",
            "    at Module._compile (module.js:443:25)\r\n",
            "    at Object.Module._extensions..js (module.js:478:10)\r\n",
            "    at Module.load (module.js:355:32)\r\n",
            "    at Function.Module._load (module.js:310:12)\r\n",
            "    at Function.Module.runMain (module.js:501:10)\r\n",
            "    at startup (node.js:129:16)\r\n",
            "    at node.js:814:3\r\n",
            "````\r\n",
            "Node version: `v0.12.6`\n"
          ]
        }
      ],
      "source": [
        "print(dataset_language[\"nl_language\"][23])\n",
        "print(dataset_language[\"nl_language_score\"][23])\n",
        "print(dataset_language[\"nl_text\"][23])"
      ]
    },
    {
      "cell_type": "code",
      "execution_count": 199,
      "metadata": {
        "colab": {
          "base_uri": "https://localhost:8080/"
        },
        "id": "LG2mlPPkptjA",
        "outputId": "a7433c6b-1a20-4863-ba84-7d1bd51c64c8"
      },
      "outputs": [
        {
          "name": "stdout",
          "output_type": "stream",
          "text": [
            "en\n",
            "0.8968048691749573\n",
            "Content goes off the page (and prevents scrollbars?)Bug report by email.  I can't repro this on my browsers but there's a screenshot attached.\r\n",
            "\r\n",
            "> Haven't managed to reproduce the FF\r\n",
            "display issues again, but here is an example of the \"no scrollbars\"\r\n",
            "problem in Chrome (well, Chromium, really). It's all the more annoying\r\n",
            "since the arrows are hijacked by the page. With FF + Vimperator, it is\r\n",
            "possible to scroll with 'J/K' and see the rest of the text.\r\n",
            "\r\n",
            "![chromium_presentation_issue](https://cloud.githubusercontent.com/assets/121855/5518441/3b898940-8920-11e4-901d-7a7136f49534.png)\r\n",
            "\n"
          ]
        }
      ],
      "source": [
        "print(dataset_language[\"nl_language\"][52])\n",
        "print(dataset_language[\"nl_language_score\"][52])\n",
        "print(dataset_language[\"nl_text\"][52])"
      ]
    },
    {
      "cell_type": "code",
      "execution_count": 200,
      "metadata": {
        "colab": {
          "base_uri": "https://localhost:8080/"
        },
        "id": "o2aTrNq_ptjA",
        "outputId": "c41238b9-3d35-4c7e-e585-2cc38ee5c84f"
      },
      "outputs": [
        {
          "name": "stdout",
          "output_type": "stream",
          "text": [
            "en\n",
            "0.5903511643409729\n",
            "Adds itemSetIdentifier to Item.hs and changeIdentifier to Compiler.hs.Hello @jaspervdj and contributors. :)\r\n",
            "\r\n",
            "This change allows one to change/set the identifier of an Item.\r\n",
            "\r\n",
            "Use case:\r\n",
            "\r\n",
            "Say someone wants to show their most recent post on the home page in its entirety.\r\n",
            "\r\n",
            "```haskell\r\n",
            "-- /site.hs\r\n",
            "-- ...\r\n",
            "  create [\"index.html\"] $ do\r\n",
            "    route idRoute\r\n",
            "    compile $ do\r\n",
            "      post <- fmap head . recentFirst =<< loadAllSnapshots \"posts/*\" \"content\"\r\n",
            "      loadAndApplyTemplate \"templates/default.html\" postCtx post\r\n",
            "        >>= relativizeUrls\r\n",
            "        >>= changeIdentifier \"index.html\"\r\n",
            "-- ...\r\n",
            "```\r\n",
            "```html\r\n",
            "<!-- \"templates/default.html\" -->\r\n",
            "<html>\r\n",
            "  <head>\r\n",
            "    <meta property=\"og:url\" content=\"$url$\">\r\n",
            "    <title>$title$</title>\r\n",
            "  </head>\r\n",
            "  <body>\r\n",
            "    $date$\r\n",
            "    $body\r\n",
            "  </body>\r\n",
            "</html>\r\n",
            "```\r\n",
            "\r\n",
            "This will allow them to create or match a page with a different identifier than the one they wish to load. In this example they are loading say Identifier `posts/yyyy-mm-dd-my-recent-post.markdown` but they output the Identifier `index.html`. \r\n",
            "\r\n",
            "You can see it in use here https://lettier.github.io rendered and the [source code](https://github.com/lettier/lettier.github.io/blob/hakyll/site.hs#L51). \r\n",
            "\r\n",
            "Thanks!\r\n",
            "\n"
          ]
        }
      ],
      "source": [
        "print(dataset_language[\"nl_language\"][75])\n",
        "print(dataset_language[\"nl_language_score\"][75])\n",
        "print(dataset_language[\"nl_text\"][75])"
      ]
    },
    {
      "cell_type": "code",
      "execution_count": 201,
      "metadata": {
        "colab": {
          "base_uri": "https://localhost:8080/"
        },
        "id": "B54a5wliptjA",
        "outputId": "891c20f3-4da0-4ff3-c46b-71e3d93f5689"
      },
      "outputs": [
        {
          "name": "stdout",
          "output_type": "stream",
          "text": [
            "en\n",
            "0.7570561170578003\n",
            "remove MACOS folder from the zip-file of MARA download\n"
          ]
        }
      ],
      "source": [
        "print(dataset_language[\"nl_language\"][77])\n",
        "print(dataset_language[\"nl_language_score\"][77])\n",
        "print(dataset_language[\"nl_text\"][77])"
      ]
    },
    {
      "cell_type": "code",
      "execution_count": 202,
      "metadata": {
        "colab": {
          "base_uri": "https://localhost:8080/"
        },
        "id": "B2xp_9V_ptjB",
        "outputId": "7017c977-c2e4-4825-ebd3-3d0e06a18e74"
      },
      "outputs": [
        {
          "name": "stdout",
          "output_type": "stream",
          "text": [
            "en\n",
            "0.968618631362915\n",
            "In /contributors checkUnsure why at yesterday's event someone was getting an error, so look back into this logic. \n"
          ]
        }
      ],
      "source": [
        "print(dataset_language[\"nl_language\"][138])\n",
        "print(dataset_language[\"nl_language_score\"][138])\n",
        "print(dataset_language[\"nl_text\"][138])"
      ]
    },
    {
      "cell_type": "code",
      "execution_count": 203,
      "metadata": {
        "colab": {
          "base_uri": "https://localhost:8080/"
        },
        "id": "JPeNy4uTptjB",
        "outputId": "45ffc42e-afa2-4cac-b283-1ad01fc3b5ae"
      },
      "outputs": [
        {
          "name": "stdout",
          "output_type": "stream",
          "text": [
            "en\n",
            "0.5260642170906067\n",
            "Proposing Animate componentThis will allow components to transition in & out.\r\n",
            "\r\n",
            "![animate component](https://cloud.githubusercontent.com/assets/3210082/16730986/876e95d4-4711-11e6-8429-81f7643e7c0d.gif)\r\n",
            "\n"
          ]
        }
      ],
      "source": [
        "print(dataset_language[\"nl_language\"][143])\n",
        "print(dataset_language[\"nl_language_score\"][143])\n",
        "print(dataset_language[\"nl_text\"][143])"
      ]
    },
    {
      "cell_type": "markdown",
      "metadata": {
        "id": "xLiSQZm3ptjB"
      },
      "source": [
        "### failures:"
      ]
    },
    {
      "cell_type": "code",
      "execution_count": 204,
      "metadata": {
        "colab": {
          "base_uri": "https://localhost:8080/"
        },
        "id": "YG2HZx3gptjB",
        "outputId": "84f72779-3e2c-4fd9-9974-835a2232e43c"
      },
      "outputs": [
        {
          "name": "stdout",
          "output_type": "stream",
          "text": [
            "en\n",
            "0.43210530281066895\n",
            "Implement copy method for transfer managercc @jamesls @JordonPhillips \n",
            "\n",
            "\n",
            "en\n",
            "0.4001844823360443\n",
            "java 8 javadoc linthttp://stackoverflow.com/questions/15886209/maven-is-not-working-in-java-8-when-javadoc-tags-are-incomplete\r\n",
            "\r\n",
            "            <configuration>\r\n",
            "                <additionalparam>-Xdoclint:none</additionalparam>\r\n",
            "            </configuration>\r\n",
            "\r\n",
            "under java 8 profile\n",
            "\n",
            "\n",
            "en\n",
            "0.5154730677604675\n",
            "Update en_US.langThe line 'achievement.alchemicalwizardy:firstPrick!' turns out to be 'achievement.alchemicalwizardy:achievment.firstPrick'\r\n",
            "Sorry for not seeing the error before.\n",
            "\n",
            "\n",
            "en\n",
            "0.8865142464637756\n",
            "How to configure swagger-ui.html prefix url to accessI tried to rewrite the place where browser can view the swagger-ui.html.\r\n",
            "\r\n",
            "It is needed because our loadbalancer is configured on special prefix in url,\r\n",
            "but I did not suceed to rewrite or configure it.\r\n",
            "\r\n",
            "Any idea?\n"
          ]
        }
      ],
      "source": [
        "print(dataset_language[\"nl_language\"][79])\n",
        "print(dataset_language[\"nl_language_score\"][79])\n",
        "print(dataset_language[\"nl_text\"][79])\n",
        "print(\"\\n\")\n",
        "print(dataset_language[\"nl_language\"][11])\n",
        "print(dataset_language[\"nl_language_score\"][11])\n",
        "print(dataset_language[\"nl_text\"][11])\n",
        "print(\"\\n\")\n",
        "print(dataset_language[\"nl_language\"][110])\n",
        "print(dataset_language[\"nl_language_score\"][110])\n",
        "print(dataset_language[\"nl_text\"][110])\n",
        "print(\"\\n\")\n",
        "print(dataset_language[\"nl_language\"][139])\n",
        "print(dataset_language[\"nl_language_score\"][139])\n",
        "print(dataset_language[\"nl_text\"][139])"
      ]
    },
    {
      "cell_type": "code",
      "execution_count": 207,
      "metadata": {
        "colab": {
          "base_uri": "https://localhost:8080/",
          "height": 407
        },
        "id": "qrPZq3vTptjB",
        "outputId": "add06626-24a2-41cf-e45d-14a2965445bd"
      },
      "outputs": [
        {
          "data": {
            "text/plain": [
              "Text(0.5, 1.0, 'distribution of the size of issues titles+comments (on a 2k subset)')"
            ]
          },
          "execution_count": 207,
          "metadata": {},
          "output_type": "execute_result"
        },
        {
          "data": {
            "image/png": "[encoded data removed]",
            "text/plain": [
              "<Figure size 648x432 with 1 Axes>"
            ]
          },
          "metadata": {
            "needs_background": "light"
          },
          "output_type": "display_data"
        }
      ],
      "source": [
        "#distribution of langauges\n",
        "\n",
        "from matplotlib import pyplot as plt\n",
        "import numpy as np\n",
        "\n",
        "plt.figure(figsize=(9,6))\n",
        "plt.hist(dataset['nl_size'], bins=np.linspace(0, 10_000, 200), alpha=0.4, label=\"length \")\n",
        "plt.legend(prop ={'size': 10})\n",
        "#truncated distribution\n",
        "plt.title(\"distribution of the size of issues titles+comments (on a 2k subset)\")"
      ]
    },
    {
      "cell_type": "code",
      "execution_count": 208,
      "metadata": {
        "colab": {
          "base_uri": "https://localhost:8080/"
        },
        "id": "UhPyQ2A9ptjB",
        "outputId": "df52e680-7b7e-4c30-f4e2-6548407ddb4f"
      },
      "outputs": [
        {
          "data": {
            "text/plain": [
              "list"
            ]
          },
          "execution_count": 208,
          "metadata": {},
          "output_type": "execute_result"
        }
      ],
      "source": [
        "type(dataset_language[\"nl_language\"])"
      ]
    },
    {
      "cell_type": "code",
      "execution_count": 209,
      "metadata": {
        "colab": {
          "base_uri": "https://localhost:8080/",
          "height": 307
        },
        "id": "f_JgCSXRptjB",
        "outputId": "133a3d64-8e32-42f7-9cfa-109cf1e57f4f"
      },
      "outputs": [
        {
          "data": {
            "text/plain": [
              "<matplotlib.axes._subplots.AxesSubplot at 0x7fe7e981aa60>"
            ]
          },
          "execution_count": 209,
          "metadata": {},
          "output_type": "execute_result"
        },
        {
          "data": {
            "image/png": "[encoded data removed]",
            "text/plain": [
              "<Figure size 432x288 with 1 Axes>"
            ]
          },
          "metadata": {
            "needs_background": "light"
          },
          "output_type": "display_data"
        }
      ],
      "source": [
        "import pandas\n",
        "from collections import Counter\n",
        "letter_counts = Counter(dataset_language[\"nl_language\"])\n",
        "df = pandas.DataFrame.from_dict(letter_counts, orient='index')\n",
        "df.plot(kind='bar', title=\"NL language distribution in Python code (2k subset)\")"
      ]
    },
    {
      "cell_type": "code",
      "execution_count": null,
      "metadata": {
        "id": "5CK8LCd7ptjC"
      },
      "outputs": [],
      "source": []
    }
  ],
  "metadata": {
    "colab": {
      "provenance": []
    },
    "kernelspec": {
      "display_name": "nlp",
      "language": "python",
      "name": "python3"
    },
    "language_info": {
      "codemirror_mode": {
        "name": "ipython",
        "version": 3
      },
      "file_extension": ".py",
      "mimetype": "text/x-python",
      "name": "python",
      "nbconvert_exporter": "python",
      "pygments_lexer": "ipython3",
      "version": "3.9.15 (main, Nov 24 2022, 14:39:17) [MSC v.1916 64 bit (AMD64)]"
    },
    "orig_nbformat": 4,
    "vscode": {
      "interpreter": {
        "hash": "2f2f53e204bc3b77b5ace4df76723a66e497531c8de8264c214a8c1be5ba9cbd"
      }
    },
    "widgets": {
      "application/vnd.jupyter.widget-state+json": {
        "1b021f6933e241b082f52471cc93effb": {
          "model_module": "@jupyter-widgets/base",
          "model_module_version": "1.2.0",
          "model_name": "LayoutModel",
          "state": {
            "_model_module": "@jupyter-widgets/base",
            "_model_module_version": "1.2.0",
            "_model_name": "LayoutModel",
            "_view_count": null,
            "_view_module": "@jupyter-widgets/base",
            "_view_module_version": "1.2.0",
            "_view_name": "LayoutView",
            "align_content": null,
            "align_items": null,
            "align_self": null,
            "border": null,
            "bottom": null,
            "display": null,
            "flex": null,
            "flex_flow": null,
            "grid_area": null,
            "grid_auto_columns": null,
            "grid_auto_flow": null,
            "grid_auto_rows": null,
            "grid_column": null,
            "grid_gap": null,
            "grid_row": null,
            "grid_template_areas": null,
            "grid_template_columns": null,
            "grid_template_rows": null,
            "height": null,
            "justify_content": null,
            "justify_items": null,
            "left": null,
            "margin": null,
            "max_height": null,
            "max_width": null,
            "min_height": null,
            "min_width": null,
            "object_fit": null,
            "object_position": null,
            "order": null,
            "overflow": null,
            "overflow_x": null,
            "overflow_y": null,
            "padding": null,
            "right": null,
            "top": null,
            "visibility": null,
            "width": null
          }
        },
        "23d28c747823422fa15450918b3e68c5": {
          "model_module": "@jupyter-widgets/base",
          "model_module_version": "1.2.0",
          "model_name": "LayoutModel",
          "state": {
            "_model_module": "@jupyter-widgets/base",
            "_model_module_version": "1.2.0",
            "_model_name": "LayoutModel",
            "_view_count": null,
            "_view_module": "@jupyter-widgets/base",
            "_view_module_version": "1.2.0",
            "_view_name": "LayoutView",
            "align_content": null,
            "align_items": null,
            "align_self": null,
            "border": null,
            "bottom": null,
            "display": null,
            "flex": null,
            "flex_flow": null,
            "grid_area": null,
            "grid_auto_columns": null,
            "grid_auto_flow": null,
            "grid_auto_rows": null,
            "grid_column": null,
            "grid_gap": null,
            "grid_row": null,
            "grid_template_areas": null,
            "grid_template_columns": null,
            "grid_template_rows": null,
            "height": null,
            "justify_content": null,
            "justify_items": null,
            "left": null,
            "margin": null,
            "max_height": null,
            "max_width": null,
            "min_height": null,
            "min_width": null,
            "object_fit": null,
            "object_position": null,
            "order": null,
            "overflow": null,
            "overflow_x": null,
            "overflow_y": null,
            "padding": null,
            "right": null,
            "top": null,
            "visibility": null,
            "width": null
          }
        },
        "24a38886c81b48c082eec0b75e8c634d": {
          "model_module": "@jupyter-widgets/controls",
          "model_module_version": "1.5.0",
          "model_name": "DescriptionStyleModel",
          "state": {
            "_model_module": "@jupyter-widgets/controls",
            "_model_module_version": "1.5.0",
            "_model_name": "DescriptionStyleModel",
            "_view_count": null,
            "_view_module": "@jupyter-widgets/base",
            "_view_module_version": "1.2.0",
            "_view_name": "StyleView",
            "description_width": ""
          }
        },
        "25647945088e43c581c43ec2f068ea06": {
          "model_module": "@jupyter-widgets/base",
          "model_module_version": "1.2.0",
          "model_name": "LayoutModel",
          "state": {
            "_model_module": "@jupyter-widgets/base",
            "_model_module_version": "1.2.0",
            "_model_name": "LayoutModel",
            "_view_count": null,
            "_view_module": "@jupyter-widgets/base",
            "_view_module_version": "1.2.0",
            "_view_name": "LayoutView",
            "align_content": null,
            "align_items": null,
            "align_self": null,
            "border": null,
            "bottom": null,
            "display": null,
            "flex": null,
            "flex_flow": null,
            "grid_area": null,
            "grid_auto_columns": null,
            "grid_auto_flow": null,
            "grid_auto_rows": null,
            "grid_column": null,
            "grid_gap": null,
            "grid_row": null,
            "grid_template_areas": null,
            "grid_template_columns": null,
            "grid_template_rows": null,
            "height": null,
            "justify_content": null,
            "justify_items": null,
            "left": null,
            "margin": null,
            "max_height": null,
            "max_width": null,
            "min_height": null,
            "min_width": null,
            "object_fit": null,
            "object_position": null,
            "order": null,
            "overflow": null,
            "overflow_x": null,
            "overflow_y": null,
            "padding": null,
            "right": null,
            "top": null,
            "visibility": null,
            "width": null
          }
        },
        "2bafe073755c4d9ebf4c9dddf1e38be3": {
          "model_module": "@jupyter-widgets/controls",
          "model_module_version": "1.5.0",
          "model_name": "HBoxModel",
          "state": {
            "_dom_classes": [],
            "_model_module": "@jupyter-widgets/controls",
            "_model_module_version": "1.5.0",
            "_model_name": "HBoxModel",
            "_view_count": null,
            "_view_module": "@jupyter-widgets/controls",
            "_view_module_version": "1.5.0",
            "_view_name": "HBoxView",
            "box_style": "",
            "children": [
              "IPY_MODEL_56ee8b5406d244029012fc53e83c43e6",
              "IPY_MODEL_a2d13ab2fdff4e9c9eaebba5f30d0ae5",
              "IPY_MODEL_eb4c7442c99f4ac390b97ce1a46a83da"
            ],
            "layout": "IPY_MODEL_1b021f6933e241b082f52471cc93effb"
          }
        },
        "2fb33fe1e5604a84a9528e7b9dce2e14": {
          "model_module": "@jupyter-widgets/controls",
          "model_module_version": "1.5.0",
          "model_name": "HTMLModel",
          "state": {
            "_dom_classes": [],
            "_model_module": "@jupyter-widgets/controls",
            "_model_module_version": "1.5.0",
            "_model_name": "HTMLModel",
            "_view_count": null,
            "_view_module": "@jupyter-widgets/controls",
            "_view_module_version": "1.5.0",
            "_view_name": "HTMLView",
            "description": "",
            "description_tooltip": null,
            "layout": "IPY_MODEL_f64f89c08e5e4495b9116f475e2c60e8",
            "placeholder": "​",
            "style": "IPY_MODEL_8c415d45dc944a5b9c25694d105af49b",
            "value": " 2000/2000 [00:00&lt;00:00, 10153.86ex/s]"
          }
        },
        "56ee8b5406d244029012fc53e83c43e6": {
          "model_module": "@jupyter-widgets/controls",
          "model_module_version": "1.5.0",
          "model_name": "HTMLModel",
          "state": {
            "_dom_classes": [],
            "_model_module": "@jupyter-widgets/controls",
            "_model_module_version": "1.5.0",
            "_model_name": "HTMLModel",
            "_view_count": null,
            "_view_module": "@jupyter-widgets/controls",
            "_view_module_version": "1.5.0",
            "_view_name": "HTMLView",
            "description": "",
            "description_tooltip": null,
            "layout": "IPY_MODEL_23d28c747823422fa15450918b3e68c5",
            "placeholder": "​",
            "style": "IPY_MODEL_24a38886c81b48c082eec0b75e8c634d",
            "value": "100%"
          }
        },
        "5823c0a00a8442fbadd2cb5dae244149": {
          "model_module": "@jupyter-widgets/base",
          "model_module_version": "1.2.0",
          "model_name": "LayoutModel",
          "state": {
            "_model_module": "@jupyter-widgets/base",
            "_model_module_version": "1.2.0",
            "_model_name": "LayoutModel",
            "_view_count": null,
            "_view_module": "@jupyter-widgets/base",
            "_view_module_version": "1.2.0",
            "_view_name": "LayoutView",
            "align_content": null,
            "align_items": null,
            "align_self": null,
            "border": null,
            "bottom": null,
            "display": null,
            "flex": null,
            "flex_flow": null,
            "grid_area": null,
            "grid_auto_columns": null,
            "grid_auto_flow": null,
            "grid_auto_rows": null,
            "grid_column": null,
            "grid_gap": null,
            "grid_row": null,
            "grid_template_areas": null,
            "grid_template_columns": null,
            "grid_template_rows": null,
            "height": null,
            "justify_content": null,
            "justify_items": null,
            "left": null,
            "margin": null,
            "max_height": null,
            "max_width": null,
            "min_height": null,
            "min_width": null,
            "object_fit": null,
            "object_position": null,
            "order": null,
            "overflow": null,
            "overflow_x": null,
            "overflow_y": null,
            "padding": null,
            "right": null,
            "top": null,
            "visibility": null,
            "width": null
          }
        },
        "620cf1ef03a0440d83ce4251253bfcc7": {
          "model_module": "@jupyter-widgets/controls",
          "model_module_version": "1.5.0",
          "model_name": "DescriptionStyleModel",
          "state": {
            "_model_module": "@jupyter-widgets/controls",
            "_model_module_version": "1.5.0",
            "_model_name": "DescriptionStyleModel",
            "_view_count": null,
            "_view_module": "@jupyter-widgets/base",
            "_view_module_version": "1.2.0",
            "_view_name": "StyleView",
            "description_width": ""
          }
        },
        "7de5116be628486099e61a8e1f6d7749": {
          "model_module": "@jupyter-widgets/controls",
          "model_module_version": "1.5.0",
          "model_name": "HBoxModel",
          "state": {
            "_dom_classes": [],
            "_model_module": "@jupyter-widgets/controls",
            "_model_module_version": "1.5.0",
            "_model_name": "HBoxModel",
            "_view_count": null,
            "_view_module": "@jupyter-widgets/controls",
            "_view_module_version": "1.5.0",
            "_view_name": "HBoxView",
            "box_style": "",
            "children": [
              "IPY_MODEL_dc1a7f982bbe42259784f7be78a7addc",
              "IPY_MODEL_fc14bd6a990548d4a7b1355d123ec3b8",
              "IPY_MODEL_2fb33fe1e5604a84a9528e7b9dce2e14"
            ],
            "layout": "IPY_MODEL_e77f58df6e5d40248c97c7c24f98efb3"
          }
        },
        "8c415d45dc944a5b9c25694d105af49b": {
          "model_module": "@jupyter-widgets/controls",
          "model_module_version": "1.5.0",
          "model_name": "DescriptionStyleModel",
          "state": {
            "_model_module": "@jupyter-widgets/controls",
            "_model_module_version": "1.5.0",
            "_model_name": "DescriptionStyleModel",
            "_view_count": null,
            "_view_module": "@jupyter-widgets/base",
            "_view_module_version": "1.2.0",
            "_view_name": "StyleView",
            "description_width": ""
          }
        },
        "a2d13ab2fdff4e9c9eaebba5f30d0ae5": {
          "model_module": "@jupyter-widgets/controls",
          "model_module_version": "1.5.0",
          "model_name": "FloatProgressModel",
          "state": {
            "_dom_classes": [],
            "_model_module": "@jupyter-widgets/controls",
            "_model_module_version": "1.5.0",
            "_model_name": "FloatProgressModel",
            "_view_count": null,
            "_view_module": "@jupyter-widgets/controls",
            "_view_module_version": "1.5.0",
            "_view_name": "ProgressView",
            "bar_style": "success",
            "description": "",
            "description_tooltip": null,
            "layout": "IPY_MODEL_25647945088e43c581c43ec2f068ea06",
            "max": 2000,
            "min": 0,
            "orientation": "horizontal",
            "style": "IPY_MODEL_de811be6b03141fe9ce54ad27ce1a720",
            "value": 2000
          }
        },
        "a5a33c0b7b034af8815fc4bfc8e1cacc": {
          "model_module": "@jupyter-widgets/base",
          "model_module_version": "1.2.0",
          "model_name": "LayoutModel",
          "state": {
            "_model_module": "@jupyter-widgets/base",
            "_model_module_version": "1.2.0",
            "_model_name": "LayoutModel",
            "_view_count": null,
            "_view_module": "@jupyter-widgets/base",
            "_view_module_version": "1.2.0",
            "_view_name": "LayoutView",
            "align_content": null,
            "align_items": null,
            "align_self": null,
            "border": null,
            "bottom": null,
            "display": null,
            "flex": null,
            "flex_flow": null,
            "grid_area": null,
            "grid_auto_columns": null,
            "grid_auto_flow": null,
            "grid_auto_rows": null,
            "grid_column": null,
            "grid_gap": null,
            "grid_row": null,
            "grid_template_areas": null,
            "grid_template_columns": null,
            "grid_template_rows": null,
            "height": null,
            "justify_content": null,
            "justify_items": null,
            "left": null,
            "margin": null,
            "max_height": null,
            "max_width": null,
            "min_height": null,
            "min_width": null,
            "object_fit": null,
            "object_position": null,
            "order": null,
            "overflow": null,
            "overflow_x": null,
            "overflow_y": null,
            "padding": null,
            "right": null,
            "top": null,
            "visibility": null,
            "width": null
          }
        },
        "a6a4c77ec8274ca2bbe63b07ceefcbae": {
          "model_module": "@jupyter-widgets/base",
          "model_module_version": "1.2.0",
          "model_name": "LayoutModel",
          "state": {
            "_model_module": "@jupyter-widgets/base",
            "_model_module_version": "1.2.0",
            "_model_name": "LayoutModel",
            "_view_count": null,
            "_view_module": "@jupyter-widgets/base",
            "_view_module_version": "1.2.0",
            "_view_name": "LayoutView",
            "align_content": null,
            "align_items": null,
            "align_self": null,
            "border": null,
            "bottom": null,
            "display": null,
            "flex": null,
            "flex_flow": null,
            "grid_area": null,
            "grid_auto_columns": null,
            "grid_auto_flow": null,
            "grid_auto_rows": null,
            "grid_column": null,
            "grid_gap": null,
            "grid_row": null,
            "grid_template_areas": null,
            "grid_template_columns": null,
            "grid_template_rows": null,
            "height": null,
            "justify_content": null,
            "justify_items": null,
            "left": null,
            "margin": null,
            "max_height": null,
            "max_width": null,
            "min_height": null,
            "min_width": null,
            "object_fit": null,
            "object_position": null,
            "order": null,
            "overflow": null,
            "overflow_x": null,
            "overflow_y": null,
            "padding": null,
            "right": null,
            "top": null,
            "visibility": null,
            "width": null
          }
        },
        "c4a8283a184b4d62946e3fe889113628": {
          "model_module": "@jupyter-widgets/controls",
          "model_module_version": "1.5.0",
          "model_name": "ProgressStyleModel",
          "state": {
            "_model_module": "@jupyter-widgets/controls",
            "_model_module_version": "1.5.0",
            "_model_name": "ProgressStyleModel",
            "_view_count": null,
            "_view_module": "@jupyter-widgets/base",
            "_view_module_version": "1.2.0",
            "_view_name": "StyleView",
            "bar_color": null,
            "description_width": ""
          }
        },
        "d802d56b1df444dea7ea0f84c5a20704": {
          "model_module": "@jupyter-widgets/controls",
          "model_module_version": "1.5.0",
          "model_name": "DescriptionStyleModel",
          "state": {
            "_model_module": "@jupyter-widgets/controls",
            "_model_module_version": "1.5.0",
            "_model_name": "DescriptionStyleModel",
            "_view_count": null,
            "_view_module": "@jupyter-widgets/base",
            "_view_module_version": "1.2.0",
            "_view_name": "StyleView",
            "description_width": ""
          }
        },
        "dc1a7f982bbe42259784f7be78a7addc": {
          "model_module": "@jupyter-widgets/controls",
          "model_module_version": "1.5.0",
          "model_name": "HTMLModel",
          "state": {
            "_dom_classes": [],
            "_model_module": "@jupyter-widgets/controls",
            "_model_module_version": "1.5.0",
            "_model_name": "HTMLModel",
            "_view_count": null,
            "_view_module": "@jupyter-widgets/controls",
            "_view_module_version": "1.5.0",
            "_view_name": "HTMLView",
            "description": "",
            "description_tooltip": null,
            "layout": "IPY_MODEL_a6a4c77ec8274ca2bbe63b07ceefcbae",
            "placeholder": "​",
            "style": "IPY_MODEL_d802d56b1df444dea7ea0f84c5a20704",
            "value": "100%"
          }
        },
        "de811be6b03141fe9ce54ad27ce1a720": {
          "model_module": "@jupyter-widgets/controls",
          "model_module_version": "1.5.0",
          "model_name": "ProgressStyleModel",
          "state": {
            "_model_module": "@jupyter-widgets/controls",
            "_model_module_version": "1.5.0",
            "_model_name": "ProgressStyleModel",
            "_view_count": null,
            "_view_module": "@jupyter-widgets/base",
            "_view_module_version": "1.2.0",
            "_view_name": "StyleView",
            "bar_color": null,
            "description_width": ""
          }
        },
        "e77f58df6e5d40248c97c7c24f98efb3": {
          "model_module": "@jupyter-widgets/base",
          "model_module_version": "1.2.0",
          "model_name": "LayoutModel",
          "state": {
            "_model_module": "@jupyter-widgets/base",
            "_model_module_version": "1.2.0",
            "_model_name": "LayoutModel",
            "_view_count": null,
            "_view_module": "@jupyter-widgets/base",
            "_view_module_version": "1.2.0",
            "_view_name": "LayoutView",
            "align_content": null,
            "align_items": null,
            "align_self": null,
            "border": null,
            "bottom": null,
            "display": null,
            "flex": null,
            "flex_flow": null,
            "grid_area": null,
            "grid_auto_columns": null,
            "grid_auto_flow": null,
            "grid_auto_rows": null,
            "grid_column": null,
            "grid_gap": null,
            "grid_row": null,
            "grid_template_areas": null,
            "grid_template_columns": null,
            "grid_template_rows": null,
            "height": null,
            "justify_content": null,
            "justify_items": null,
            "left": null,
            "margin": null,
            "max_height": null,
            "max_width": null,
            "min_height": null,
            "min_width": null,
            "object_fit": null,
            "object_position": null,
            "order": null,
            "overflow": null,
            "overflow_x": null,
            "overflow_y": null,
            "padding": null,
            "right": null,
            "top": null,
            "visibility": null,
            "width": null
          }
        },
        "eb4c7442c99f4ac390b97ce1a46a83da": {
          "model_module": "@jupyter-widgets/controls",
          "model_module_version": "1.5.0",
          "model_name": "HTMLModel",
          "state": {
            "_dom_classes": [],
            "_model_module": "@jupyter-widgets/controls",
            "_model_module_version": "1.5.0",
            "_model_name": "HTMLModel",
            "_view_count": null,
            "_view_module": "@jupyter-widgets/controls",
            "_view_module_version": "1.5.0",
            "_view_name": "HTMLView",
            "description": "",
            "description_tooltip": null,
            "layout": "IPY_MODEL_a5a33c0b7b034af8815fc4bfc8e1cacc",
            "placeholder": "​",
            "style": "IPY_MODEL_620cf1ef03a0440d83ce4251253bfcc7",
            "value": " 2000/2000 [00:01&lt;00:00, 1491.24ex/s]"
          }
        },
        "f64f89c08e5e4495b9116f475e2c60e8": {
          "model_module": "@jupyter-widgets/base",
          "model_module_version": "1.2.0",
          "model_name": "LayoutModel",
          "state": {
            "_model_module": "@jupyter-widgets/base",
            "_model_module_version": "1.2.0",
            "_model_name": "LayoutModel",
            "_view_count": null,
            "_view_module": "@jupyter-widgets/base",
            "_view_module_version": "1.2.0",
            "_view_name": "LayoutView",
            "align_content": null,
            "align_items": null,
            "align_self": null,
            "border": null,
            "bottom": null,
            "display": null,
            "flex": null,
            "flex_flow": null,
            "grid_area": null,
            "grid_auto_columns": null,
            "grid_auto_flow": null,
            "grid_auto_rows": null,
            "grid_column": null,
            "grid_gap": null,
            "grid_row": null,
            "grid_template_areas": null,
            "grid_template_columns": null,
            "grid_template_rows": null,
            "height": null,
            "justify_content": null,
            "justify_items": null,
            "left": null,
            "margin": null,
            "max_height": null,
            "max_width": null,
            "min_height": null,
            "min_width": null,
            "object_fit": null,
            "object_position": null,
            "order": null,
            "overflow": null,
            "overflow_x": null,
            "overflow_y": null,
            "padding": null,
            "right": null,
            "top": null,
            "visibility": null,
            "width": null
          }
        },
        "fc14bd6a990548d4a7b1355d123ec3b8": {
          "model_module": "@jupyter-widgets/controls",
          "model_module_version": "1.5.0",
          "model_name": "FloatProgressModel",
          "state": {
            "_dom_classes": [],
            "_model_module": "@jupyter-widgets/controls",
            "_model_module_version": "1.5.0",
            "_model_name": "FloatProgressModel",
            "_view_count": null,
            "_view_module": "@jupyter-widgets/controls",
            "_view_module_version": "1.5.0",
            "_view_name": "ProgressView",
            "bar_style": "success",
            "description": "",
            "description_tooltip": null,
            "layout": "IPY_MODEL_5823c0a00a8442fbadd2cb5dae244149",
            "max": 2000,
            "min": 0,
            "orientation": "horizontal",
            "style": "IPY_MODEL_c4a8283a184b4d62946e3fe889113628",
            "value": 2000
          }
        }
      }
    }
  },
  "nbformat": 4,
  "nbformat_minor": 0
}
